{
 "cells": [
  {
   "cell_type": "code",
   "execution_count": 1,
   "id": "c347ccf5",
   "metadata": {},
   "outputs": [],
   "source": [
    "import pandas as pd"
   ]
  },
  {
   "cell_type": "code",
   "execution_count": 2,
   "id": "7d4d20e2",
   "metadata": {},
   "outputs": [],
   "source": [
    "df_usuarios = pd.read_csv('MEQ_usuarios_edges.csv')\n",
    "df_tbip = pd.read_csv('MEQ_tbip.csv')\n",
    "df_tweets = pd.read_csv('MEQ_tweets.csv')"
   ]
  },
  {
   "cell_type": "markdown",
   "id": "7557be96",
   "metadata": {},
   "source": [
    "#### Change screen_name to user_id"
   ]
  },
  {
   "cell_type": "code",
   "execution_count": 122,
   "id": "62e7f740",
   "metadata": {},
   "outputs": [],
   "source": [
    "dic_screen = {}\n",
    "for _, row in df_tweets.iterrows():\n",
    "    user_id = row.user_id\n",
    "    screen = row.screen_name\n",
    "    if user_id not in dic_screen:\n",
    "        dic_screen[screen] = user_id"
   ]
  },
  {
   "cell_type": "code",
   "execution_count": 123,
   "id": "878416ab",
   "metadata": {},
   "outputs": [],
   "source": [
    "def screen2id(name):\n",
    "    if name not in dic_screen:\n",
    "        return 'None'\n",
    "    user_id = dic_screen[name]\n",
    "    return user_id\n",
    "\n",
    "df_usuarios['user1_id'] = df_usuarios.user1.apply(screen2id)\n",
    "df_usuarios['user2_id'] = df_usuarios.user2.apply(screen2id)"
   ]
  },
  {
   "cell_type": "markdown",
   "id": "5f03c812",
   "metadata": {},
   "source": [
    "#### Filter edge list"
   ]
  },
  {
   "cell_type": "code",
   "execution_count": 124,
   "id": "9542bdbc",
   "metadata": {
    "scrolled": true
   },
   "outputs": [
    {
     "data": {
      "text/plain": [
       "[1.0007909383384146e+18, 1.0019414975693088e+18, 1.0023751533078692e+18]"
      ]
     },
     "execution_count": 124,
     "metadata": {},
     "output_type": "execute_result"
    }
   ],
   "source": [
    "usuarios_tbip = df_tbip.author.to_list()\n",
    "usuarios_tbip[:3]"
   ]
  },
  {
   "cell_type": "code",
   "execution_count": 125,
   "id": "f15e0d11",
   "metadata": {},
   "outputs": [
    {
     "data": {
      "text/plain": [
       "5859"
      ]
     },
     "execution_count": 125,
     "metadata": {},
     "output_type": "execute_result"
    }
   ],
   "source": [
    "df_usuarios = df_usuarios[df_usuarios.user2_id.isin(usuarios_tbip)]\n",
    "df_usuarios = df_usuarios[df_usuarios.user1_id.isin(usuarios_tbip)]\n",
    "len(df_usuarios)"
   ]
  },
  {
   "cell_type": "code",
   "execution_count": 126,
   "id": "5fa4d5e5",
   "metadata": {},
   "outputs": [
    {
     "data": {
      "text/html": [
       "<div>\n",
       "<style scoped>\n",
       "    .dataframe tbody tr th:only-of-type {\n",
       "        vertical-align: middle;\n",
       "    }\n",
       "\n",
       "    .dataframe tbody tr th {\n",
       "        vertical-align: top;\n",
       "    }\n",
       "\n",
       "    .dataframe thead th {\n",
       "        text-align: right;\n",
       "    }\n",
       "</style>\n",
       "<table border=\"1\" class=\"dataframe\">\n",
       "  <thead>\n",
       "    <tr style=\"text-align: right;\">\n",
       "      <th></th>\n",
       "      <th>user1</th>\n",
       "      <th>user2</th>\n",
       "      <th>user1_id</th>\n",
       "      <th>user2_id</th>\n",
       "    </tr>\n",
       "  </thead>\n",
       "  <tbody>\n",
       "    <tr>\n",
       "      <th>9</th>\n",
       "      <td>0scaarx</td>\n",
       "      <td>CbaRock86</td>\n",
       "      <td>1222082475276587008.0</td>\n",
       "      <td>2231849132.0</td>\n",
       "    </tr>\n",
       "    <tr>\n",
       "      <th>12</th>\n",
       "      <td>0scaarx</td>\n",
       "      <td>ElisaLoncon</td>\n",
       "      <td>1222082475276587008.0</td>\n",
       "      <td>376516710.0</td>\n",
       "    </tr>\n",
       "    <tr>\n",
       "      <th>13</th>\n",
       "      <td>0scaarx</td>\n",
       "      <td>FVillanelo</td>\n",
       "      <td>1222082475276587008.0</td>\n",
       "      <td>1066898040.0</td>\n",
       "    </tr>\n",
       "    <tr>\n",
       "      <th>16</th>\n",
       "      <td>0scaarx</td>\n",
       "      <td>JorgeSharp</td>\n",
       "      <td>1222082475276587008.0</td>\n",
       "      <td>68917670.0</td>\n",
       "    </tr>\n",
       "    <tr>\n",
       "      <th>18</th>\n",
       "      <td>0scaarx</td>\n",
       "      <td>Mister_Wolf_0</td>\n",
       "      <td>1222082475276587008.0</td>\n",
       "      <td>3054738225.0</td>\n",
       "    </tr>\n",
       "    <tr>\n",
       "      <th>...</th>\n",
       "      <td>...</td>\n",
       "      <td>...</td>\n",
       "      <td>...</td>\n",
       "      <td>...</td>\n",
       "    </tr>\n",
       "    <tr>\n",
       "      <th>28619</th>\n",
       "      <td>trigorosa</td>\n",
       "      <td>urrutilaubreaux</td>\n",
       "      <td>110517361.0</td>\n",
       "      <td>1356010994858926080.0</td>\n",
       "    </tr>\n",
       "    <tr>\n",
       "      <th>28638</th>\n",
       "      <td>upelienta_sss</td>\n",
       "      <td>veronica_amada</td>\n",
       "      <td>104357575.0</td>\n",
       "      <td>1232690256.0</td>\n",
       "    </tr>\n",
       "    <tr>\n",
       "      <th>28639</th>\n",
       "      <td>upelienta_sss</td>\n",
       "      <td>viarredondo</td>\n",
       "      <td>104357575.0</td>\n",
       "      <td>167251178.0</td>\n",
       "    </tr>\n",
       "    <tr>\n",
       "      <th>28640</th>\n",
       "      <td>upelienta_sss</td>\n",
       "      <td>yasna_cardenasx</td>\n",
       "      <td>104357575.0</td>\n",
       "      <td>2505163157.0</td>\n",
       "    </tr>\n",
       "    <tr>\n",
       "      <th>28641</th>\n",
       "      <td>upelienta_sss</td>\n",
       "      <td>yolandaisabelc</td>\n",
       "      <td>104357575.0</td>\n",
       "      <td>234598045.0</td>\n",
       "    </tr>\n",
       "  </tbody>\n",
       "</table>\n",
       "<p>5859 rows × 4 columns</p>\n",
       "</div>"
      ],
      "text/plain": [
       "               user1            user2               user1_id  \\\n",
       "9            0scaarx        CbaRock86  1222082475276587008.0   \n",
       "12           0scaarx      ElisaLoncon  1222082475276587008.0   \n",
       "13           0scaarx       FVillanelo  1222082475276587008.0   \n",
       "16           0scaarx       JorgeSharp  1222082475276587008.0   \n",
       "18           0scaarx    Mister_Wolf_0  1222082475276587008.0   \n",
       "...              ...              ...                    ...   \n",
       "28619      trigorosa  urrutilaubreaux            110517361.0   \n",
       "28638  upelienta_sss   veronica_amada            104357575.0   \n",
       "28639  upelienta_sss      viarredondo            104357575.0   \n",
       "28640  upelienta_sss  yasna_cardenasx            104357575.0   \n",
       "28641  upelienta_sss   yolandaisabelc            104357575.0   \n",
       "\n",
       "                    user2_id  \n",
       "9               2231849132.0  \n",
       "12               376516710.0  \n",
       "13              1066898040.0  \n",
       "16                68917670.0  \n",
       "18              3054738225.0  \n",
       "...                      ...  \n",
       "28619  1356010994858926080.0  \n",
       "28638           1232690256.0  \n",
       "28639            167251178.0  \n",
       "28640           2505163157.0  \n",
       "28641            234598045.0  \n",
       "\n",
       "[5859 rows x 4 columns]"
      ]
     },
     "execution_count": 126,
     "metadata": {},
     "output_type": "execute_result"
    }
   ],
   "source": [
    "df_usuarios"
   ]
  },
  {
   "cell_type": "code",
   "execution_count": 127,
   "id": "f7f6b719",
   "metadata": {
    "scrolled": true
   },
   "outputs": [],
   "source": [
    "users_ids = df_usuarios[['user1_id', 'user2_id']]\n",
    "users_ids.to_csv('MEQ_users_id_edges.txt', header=None, index=None, sep='\\t', mode='a')"
   ]
  },
  {
   "cell_type": "markdown",
   "id": "e56f3cb0",
   "metadata": {},
   "source": [
    "#### Revisar que se creo correctamente"
   ]
  },
  {
   "cell_type": "code",
   "execution_count": 128,
   "id": "b72eaff4",
   "metadata": {},
   "outputs": [
    {
     "data": {
      "text/html": [
       "<div>\n",
       "<style scoped>\n",
       "    .dataframe tbody tr th:only-of-type {\n",
       "        vertical-align: middle;\n",
       "    }\n",
       "\n",
       "    .dataframe tbody tr th {\n",
       "        vertical-align: top;\n",
       "    }\n",
       "\n",
       "    .dataframe thead th {\n",
       "        text-align: right;\n",
       "    }\n",
       "</style>\n",
       "<table border=\"1\" class=\"dataframe\">\n",
       "  <thead>\n",
       "    <tr style=\"text-align: right;\">\n",
       "      <th></th>\n",
       "      <th>0</th>\n",
       "      <th>1</th>\n",
       "    </tr>\n",
       "  </thead>\n",
       "  <tbody>\n",
       "    <tr>\n",
       "      <th>0</th>\n",
       "      <td>1.222082e+18</td>\n",
       "      <td>2.231849e+09</td>\n",
       "    </tr>\n",
       "    <tr>\n",
       "      <th>1</th>\n",
       "      <td>1.222082e+18</td>\n",
       "      <td>3.765167e+08</td>\n",
       "    </tr>\n",
       "    <tr>\n",
       "      <th>2</th>\n",
       "      <td>1.222082e+18</td>\n",
       "      <td>1.066898e+09</td>\n",
       "    </tr>\n",
       "    <tr>\n",
       "      <th>3</th>\n",
       "      <td>1.222082e+18</td>\n",
       "      <td>6.891767e+07</td>\n",
       "    </tr>\n",
       "    <tr>\n",
       "      <th>4</th>\n",
       "      <td>1.222082e+18</td>\n",
       "      <td>3.054738e+09</td>\n",
       "    </tr>\n",
       "    <tr>\n",
       "      <th>...</th>\n",
       "      <td>...</td>\n",
       "      <td>...</td>\n",
       "    </tr>\n",
       "    <tr>\n",
       "      <th>11713</th>\n",
       "      <td>1.105174e+08</td>\n",
       "      <td>1.356011e+18</td>\n",
       "    </tr>\n",
       "    <tr>\n",
       "      <th>11714</th>\n",
       "      <td>1.043576e+08</td>\n",
       "      <td>1.232690e+09</td>\n",
       "    </tr>\n",
       "    <tr>\n",
       "      <th>11715</th>\n",
       "      <td>1.043576e+08</td>\n",
       "      <td>1.672512e+08</td>\n",
       "    </tr>\n",
       "    <tr>\n",
       "      <th>11716</th>\n",
       "      <td>1.043576e+08</td>\n",
       "      <td>2.505163e+09</td>\n",
       "    </tr>\n",
       "    <tr>\n",
       "      <th>11717</th>\n",
       "      <td>1.043576e+08</td>\n",
       "      <td>2.345980e+08</td>\n",
       "    </tr>\n",
       "  </tbody>\n",
       "</table>\n",
       "<p>11718 rows × 2 columns</p>\n",
       "</div>"
      ],
      "text/plain": [
       "                  0             1\n",
       "0      1.222082e+18  2.231849e+09\n",
       "1      1.222082e+18  3.765167e+08\n",
       "2      1.222082e+18  1.066898e+09\n",
       "3      1.222082e+18  6.891767e+07\n",
       "4      1.222082e+18  3.054738e+09\n",
       "...             ...           ...\n",
       "11713  1.105174e+08  1.356011e+18\n",
       "11714  1.043576e+08  1.232690e+09\n",
       "11715  1.043576e+08  1.672512e+08\n",
       "11716  1.043576e+08  2.505163e+09\n",
       "11717  1.043576e+08  2.345980e+08\n",
       "\n",
       "[11718 rows x 2 columns]"
      ]
     },
     "execution_count": 128,
     "metadata": {},
     "output_type": "execute_result"
    }
   ],
   "source": [
    "pd.read_csv('MEQ_users_id_edges.txt', header=None, sep = '\\t')"
   ]
  },
  {
   "cell_type": "markdown",
   "id": "c257376a",
   "metadata": {},
   "source": [
    "## TBIP features"
   ]
  },
  {
   "cell_type": "code",
   "execution_count": 129,
   "id": "5f4c3cf5",
   "metadata": {},
   "outputs": [
    {
     "data": {
      "text/plain": [
       "(-2.0, 2.0)"
      ]
     },
     "execution_count": 129,
     "metadata": {},
     "output_type": "execute_result"
    },
    {
     "data": {
      "image/png": "[encoded data removed]",
      "text/plain": [
       "<Figure size 720x576 with 1 Axes>"
      ]
     },
     "metadata": {},
     "output_type": "display_data"
    }
   ],
   "source": [
    "import matplotlib.pyplot as plt\n",
    "import seaborn as sns\n",
    "\n",
    "plt.figure(figsize = (10, 8))\n",
    "plt.subplot(211)\n",
    "sns.kdeplot(df_tbip['ideal_point'], color = '#CD5B45', fill=True)\n",
    "plt.xticks([],[])\n",
    "plt.yticks([],[])\n",
    "plt.xlabel('')\n",
    "plt.ylabel('Número de usuarios')\n",
    "plt.xlabel('Ideal Points')\n",
    "plt.title('Comunidad', loc='left', size=15)\n",
    "plt.xlim(-2,2)"
   ]
  },
  {
   "cell_type": "code",
   "execution_count": 141,
   "id": "2ea06b8a",
   "metadata": {
    "scrolled": true
   },
   "outputs": [
    {
     "name": "stderr",
     "output_type": "stream",
     "text": [
      "C:\\Users\\Max\\AppData\\Local\\Temp/ipykernel_10512/2746869492.py:9: SettingWithCopyWarning: \n",
      "A value is trying to be set on a copy of a slice from a DataFrame.\n",
      "Try using .loc[row_indexer,col_indexer] = value instead\n",
      "\n",
      "See the caveats in the documentation: https://pandas.pydata.org/pandas-docs/stable/user_guide/indexing.html#returning-a-view-versus-a-copy\n",
      "  nodefeat['comm'] = nodefeat.ideal_point.apply(asignar)\n"
     ]
    }
   ],
   "source": [
    "def asignar(score):\n",
    "    if score > 0:\n",
    "        return 1\n",
    "    else:\n",
    "        return 0\n",
    "\n",
    "df_tbip['idx'] = df_tbip.index\n",
    "nodefeat = df_tbip[['author', 'ideal_point']]\n",
    "nodefeat['comm'] = nodefeat.ideal_point.apply(asignar)\n",
    "nodefeat = nodefeat[['author', 'comm']]\n",
    "nodefeat.to_csv('MEQ_nodefeat_comm.txt', header=None, sep = '\\t')"
   ]
  },
  {
   "cell_type": "code",
   "execution_count": 144,
   "id": "00f97526",
   "metadata": {},
   "outputs": [],
   "source": [
    "featname = pd.DataFrame({'att': [0, 1], 'name': ['izquierda', 'derecha']})\n",
    "#featname = df_tbip[['idx', 'ideal_point']]\n",
    "\n",
    "featname.to_csv('MEQ_featname_comm.txt', header=None, sep='\\t')"
   ]
  },
  {
   "cell_type": "markdown",
   "id": "c04bd95f",
   "metadata": {},
   "source": [
    "### Veamos"
   ]
  },
  {
   "cell_type": "code",
   "execution_count": 74,
   "id": "794145c1",
   "metadata": {
    "scrolled": true
   },
   "outputs": [
    {
     "name": "stdout",
     "output_type": "stream",
     "text": [
      "2266\t2233\t2142\t2206\t2218\t2078\t2410\t2464\t2123\t2240\t1993\t2229\t2340\t2244\t2507\t2309\t2131\t2088\t2604\t2220\t2073\t2611\t2560\t1983\t2188\t1943\t2602\t2607\t2369\t2090\t2201\t2590\t2059\t2150\t1938\t2118\t1946\t2172\t2586\t1962\t2331\t2601\t2030\t1917\t2564\t2428\t2625\t2184\t2593\t2290\t2275\t2324\t2064\t2615\t2624\t2542\t2103\t2326\t1985\t2526\t2139\t2323\t2104\t2414\t2271\t2395\t2500\t2093\t2347\t1984\t2354\t2492\t2409\t2376\t2381\t2600\t2356\t2339\t2630\t2045\t1971\t2043\t2140\t2553\t2655\t2374\t1979\t2124\t2460\t2352\t2190\t2033\t2638\t1966\t2363\t2069\t2108\t2578\t2200\t2520\t2559\t2278\t2074\t2037\t2404\t2550\t2549\t2619\t2020\t2121\t2482\t2423\t2370\t2154\t2446\t1918\t2308\t2112\t2543\t2253\t2408\t1929\t2299\t2573\t2561\t2348\t2276\t2005\t2654\t2095\t2257\t2433\t2504\t1986\t2359\t2551\t2040\t2430\t2122\t2083\t2307\t2386\t2521\t2212\t2546\t2495\t2469\t2539\t2063\t2086\t2468\t2485\t2115\t2575\t1997\t2109\t2216\t2084\t2646\t2556\t2261\t2165\t2467\t2077\t2334\t2484\t2046\t2623\t2329\t1925\t1953\t2506\t2237\t2579\t2098\t2631\t2418\t2306\t2300\t2552\t2477\t2563\t2532\t2489\t1941\t2056\t2213\t2060\t2574\t2591\t2210\t2179\t2554\t2462\t2164\t2392\t2407\t2499\t1989\t2478\t1963\t2353\t2429\t2058\t\n",
      "\n",
      "2111\t2384\t2047\t2199\t2081\t1577\t2598\t2054\t2283\t2328\t2333\t2282\t2187\t2087\t2289\t2133\t2336\t1945\t2032\t2153\t2138\t2555\t2068\t2511\t2007\t2510\t2543\t2183\t2292\t2509\t2102\t2279\t2224\t2117\t2471\t2072\t2463\t2149\t1926\t2461\t2629\t2071\t2649\t2327\t2125\t2592\t2268\t2319\t2302\t1959\t1920\t2294\t2247\t2491\t2344\t2642\t2174\t1947\t2241\t1941\t2347\t2038\t2053\t2617\t2567\t2039\t2223\t2180\t2052\t2127\t2176\t2196\t2338\t2351\t1718\t2194\t2169\t1948\t2451\t2250\t2028\t2597\t2398\t2419\t136\t2372\t2582\t1465\t2332\t2643\t2042\t2512\t2458\t2143\t2203\t2533\t2616\t1932\t2508\t2608\t2246\t2475\t2436\t2377\t2394\t1940\t2498\t1955\t2588\t2148\t2537\t2273\t1954\t2135\t2434\t2594\t2191\t2128\t2132\t2254\t2189\t2151\t2516\t2010\t2026\t2134\t1964\t2002\t2420\t2062\t2267\t2343\t2161\t2589\t2144\t1939\t2399\t1916\t2368\t2472\t2325\t2653\t2315\t2264\t2445\t1970\t2101\t2417\t2235\t2501\t2232\t2396\t2438\t2603\t1994\t2304\t2313\t2465\t1972\t2280\t2243\t2215\t2171\t2116\t1973\t2385\t2364\t1951\t2547\t1995\t2198\t2293\t2285\t1981\t\n",
      "\n"
     ]
    }
   ],
   "source": [
    "arch = open('MEQ_cmtyvv.txt', 'r')\n",
    "for line in arch:\n",
    "    print(line)"
   ]
  }
 ],
 "metadata": {
  "kernelspec": {
   "display_name": "Python 3 (ipykernel)",
   "language": "python",
   "name": "python3"
  },
  "language_info": {
   "codemirror_mode": {
    "name": "ipython",
    "version": 3
   },
   "file_extension": ".py",
   "mimetype": "text/x-python",
   "name": "python",
   "nbconvert_exporter": "python",
   "pygments_lexer": "ipython3",
   "version": "3.9.7"
  }
 },
 "nbformat": 4,
 "nbformat_minor": 5
}
