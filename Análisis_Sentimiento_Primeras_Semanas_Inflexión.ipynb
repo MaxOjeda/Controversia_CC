{
 "cells": [
  {
   "cell_type": "code",
   "execution_count": null,
   "id": "8087ae0b",
   "metadata": {},
   "outputs": [],
   "source": [
    "import pandas as pd\n",
    "from datetime import datetime\n",
    "import matplotlib.pyplot as plt"
   ]
  },
  {
   "cell_type": "code",
   "execution_count": 2,
   "id": "2def1d1c",
   "metadata": {
    "scrolled": true
   },
   "outputs": [
    {
     "name": "stderr",
     "output_type": "stream",
     "text": [
      "C:\\Users\\Max\\anaconda3\\lib\\site-packages\\IPython\\core\\interactiveshell.py:3444: DtypeWarning: Columns (0,1,4,8,9) have mixed types.Specify dtype option on import or set low_memory=False.\n",
      "  exec(code_obj, self.user_global_ns, self.user_ns)\n",
      "C:\\Users\\Max\\anaconda3\\lib\\site-packages\\IPython\\core\\interactiveshell.py:3444: DtypeWarning: Columns (0,8) have mixed types.Specify dtype option on import or set low_memory=False.\n",
      "  exec(code_obj, self.user_global_ns, self.user_ns)\n"
     ]
    }
   ],
   "source": [
    "df = pd.read_csv('tesis_data_raw.csv')\n",
    "df2 = pd.read_csv('tesis_data_raw_second.csv')\n",
    "del df['Unnamed: 0']\n",
    "del df2['Unnamed: 0']"
   ]
  },
  {
   "cell_type": "code",
   "execution_count": 3,
   "id": "e6fb06f3",
   "metadata": {
    "scrolled": true
   },
   "outputs": [
    {
     "data": {
      "text/plain": [
       "15982806"
      ]
     },
     "execution_count": 3,
     "metadata": {},
     "output_type": "execute_result"
    }
   ],
   "source": [
    "df = pd.concat([df, df2], axis=0)\n",
    "len(df)"
   ]
  },
  {
   "cell_type": "markdown",
   "id": "7f9c898b",
   "metadata": {},
   "source": [
    "## Preprocesamiento de datos"
   ]
  },
  {
   "cell_type": "code",
   "execution_count": 4,
   "id": "ae5c85fd",
   "metadata": {},
   "outputs": [
    {
     "name": "stdout",
     "output_type": "stream",
     "text": [
      "2018-10-10 20:19:24+00:00 2022-07-14 00:00:00+00:00\n"
     ]
    }
   ],
   "source": [
    "df = df[df['created_at'].notna()]\n",
    "df = df[df['text'].notna()]\n",
    "print(df.created_at.min(), df.created_at.max())"
   ]
  },
  {
   "cell_type": "code",
   "execution_count": 5,
   "id": "3daa2e59",
   "metadata": {},
   "outputs": [],
   "source": [
    "df['time'] = pd.to_datetime(df['created_at'])"
   ]
  },
  {
   "cell_type": "code",
   "execution_count": 6,
   "id": "ab12961e",
   "metadata": {},
   "outputs": [],
   "source": [
    "df = df.drop_duplicates(subset=['id'])\n",
    "df = df[df['time'].notna()]"
   ]
  },
  {
   "cell_type": "code",
   "execution_count": 7,
   "id": "8d8972a6",
   "metadata": {},
   "outputs": [
    {
     "data": {
      "text/plain": [
       "14403362"
      ]
     },
     "execution_count": 7,
     "metadata": {},
     "output_type": "execute_result"
    }
   ],
   "source": [
    "len(df)"
   ]
  },
  {
   "cell_type": "code",
   "execution_count": 35,
   "id": "c50f04c8",
   "metadata": {},
   "outputs": [
    {
     "data": {
      "text/plain": [
       "898929"
      ]
     },
     "execution_count": 35,
     "metadata": {},
     "output_type": "execute_result"
    }
   ],
   "source": [
    "df = df[(df.time > '2021-09-02') & (df.time < '2021-09-20')]\n",
    "len(df)"
   ]
  },
  {
   "cell_type": "code",
   "execution_count": 36,
   "id": "51130d44",
   "metadata": {},
   "outputs": [
    {
     "data": {
      "text/html": [
       "<div>\n",
       "<style scoped>\n",
       "    .dataframe tbody tr th:only-of-type {\n",
       "        vertical-align: middle;\n",
       "    }\n",
       "\n",
       "    .dataframe tbody tr th {\n",
       "        vertical-align: top;\n",
       "    }\n",
       "\n",
       "    .dataframe thead th {\n",
       "        text-align: right;\n",
       "    }\n",
       "</style>\n",
       "<table border=\"1\" class=\"dataframe\">\n",
       "  <thead>\n",
       "    <tr style=\"text-align: right;\">\n",
       "      <th></th>\n",
       "      <th>created_at</th>\n",
       "      <th>id</th>\n",
       "      <th>user_id</th>\n",
       "      <th>screen_name</th>\n",
       "      <th>followers_count</th>\n",
       "      <th>friend_count</th>\n",
       "      <th>in_reply_to_user_id</th>\n",
       "      <th>in_reply_to_screen_name</th>\n",
       "      <th>text</th>\n",
       "      <th>time</th>\n",
       "      <th>text_clean_sent</th>\n",
       "      <th>text_clean_lang</th>\n",
       "    </tr>\n",
       "  </thead>\n",
       "  <tbody>\n",
       "    <tr>\n",
       "      <th>6</th>\n",
       "      <td>2021-09-18 16:53:45+00:00</td>\n",
       "      <td>1.439271e+18</td>\n",
       "      <td>1.402801e+18</td>\n",
       "      <td>FernandoSaaved2</td>\n",
       "      <td>311.0</td>\n",
       "      <td>182.0</td>\n",
       "      <td>NaN</td>\n",
       "      <td>NaN</td>\n",
       "      <td>RT @HarryJurgensen: Las 1.128 ENMIENDAS presen...</td>\n",
       "      <td>2021-09-18 16:53:45+00:00</td>\n",
       "      <td>Las 1.128 ENMIENDAS presentadas a los REGLAMEN...</td>\n",
       "      <td>las 1.128 enmiendas presentadas a los reglamen...</td>\n",
       "    </tr>\n",
       "    <tr>\n",
       "      <th>28</th>\n",
       "      <td>2021-09-03 00:32:25+00:00</td>\n",
       "      <td>1.433589e+18</td>\n",
       "      <td>7.305335e+17</td>\n",
       "      <td>therno666</td>\n",
       "      <td>340.0</td>\n",
       "      <td>465.0</td>\n",
       "      <td>NaN</td>\n",
       "      <td>NaN</td>\n",
       "      <td>RT @carlos81956718: Franco Parisi expone el Ve...</td>\n",
       "      <td>2021-09-03 00:32:25+00:00</td>\n",
       "      <td>Franco Parisi expone el Verdadero motivo de po...</td>\n",
       "      <td>franco parisi expone el verdadero motivo de po...</td>\n",
       "    </tr>\n",
       "    <tr>\n",
       "      <th>35</th>\n",
       "      <td>2021-09-05 22:34:08+00:00</td>\n",
       "      <td>1.434646e+18</td>\n",
       "      <td>1.156790e+18</td>\n",
       "      <td>Corisal3</td>\n",
       "      <td>817.0</td>\n",
       "      <td>564.0</td>\n",
       "      <td>NaN</td>\n",
       "      <td>NaN</td>\n",
       "      <td>RT @carlos81956718: El Pelao Vade es de la mis...</td>\n",
       "      <td>2021-09-05 22:34:08+00:00</td>\n",
       "      <td>El Pelao Vade es de la misma CEPA que Ancalao ...</td>\n",
       "      <td>el pelao vade es de la misma cepa que ancalao ...</td>\n",
       "    </tr>\n",
       "    <tr>\n",
       "      <th>74</th>\n",
       "      <td>2021-09-14 00:37:39+00:00</td>\n",
       "      <td>1.437576e+18</td>\n",
       "      <td>6.313310e+08</td>\n",
       "      <td>yoly2944</td>\n",
       "      <td>411.0</td>\n",
       "      <td>298.0</td>\n",
       "      <td>NaN</td>\n",
       "      <td>NaN</td>\n",
       "      <td>RT @TERE_LAprofe73: EN DOS MESES BAJA 20 PUNTO...</td>\n",
       "      <td>2021-09-14 00:37:39+00:00</td>\n",
       "      <td>_LAprofe73 EN DOS MESES BAJA 20 PUNTOS LA CC ,...</td>\n",
       "      <td>_laprofe73 en dos meses baja 20 puntos la cc ,...</td>\n",
       "    </tr>\n",
       "    <tr>\n",
       "      <th>78</th>\n",
       "      <td>2021-09-03 21:08:29+00:00</td>\n",
       "      <td>1.433900e+18</td>\n",
       "      <td>1.259296e+18</td>\n",
       "      <td>Cristob40910084</td>\n",
       "      <td>3.0</td>\n",
       "      <td>47.0</td>\n",
       "      <td>NaN</td>\n",
       "      <td>NaN</td>\n",
       "      <td>RT @fernando_atria: ¿Qué le puedo comentar? So...</td>\n",
       "      <td>2021-09-03 21:08:29+00:00</td>\n",
       "      <td>_atria ¿Que le puedo comentar? Solo que lea el...</td>\n",
       "      <td>_atria ¿que le puedo comentar? solo que lea el...</td>\n",
       "    </tr>\n",
       "  </tbody>\n",
       "</table>\n",
       "</div>"
      ],
      "text/plain": [
       "                   created_at            id       user_id      screen_name  \\\n",
       "6   2021-09-18 16:53:45+00:00  1.439271e+18  1.402801e+18  FernandoSaaved2   \n",
       "28  2021-09-03 00:32:25+00:00  1.433589e+18  7.305335e+17        therno666   \n",
       "35  2021-09-05 22:34:08+00:00  1.434646e+18  1.156790e+18         Corisal3   \n",
       "74  2021-09-14 00:37:39+00:00  1.437576e+18  6.313310e+08         yoly2944   \n",
       "78  2021-09-03 21:08:29+00:00  1.433900e+18  1.259296e+18  Cristob40910084   \n",
       "\n",
       "    followers_count  friend_count  in_reply_to_user_id  \\\n",
       "6             311.0         182.0                  NaN   \n",
       "28            340.0         465.0                  NaN   \n",
       "35            817.0         564.0                  NaN   \n",
       "74            411.0         298.0                  NaN   \n",
       "78              3.0          47.0                  NaN   \n",
       "\n",
       "   in_reply_to_screen_name                                               text  \\\n",
       "6                      NaN  RT @HarryJurgensen: Las 1.128 ENMIENDAS presen...   \n",
       "28                     NaN  RT @carlos81956718: Franco Parisi expone el Ve...   \n",
       "35                     NaN  RT @carlos81956718: El Pelao Vade es de la mis...   \n",
       "74                     NaN  RT @TERE_LAprofe73: EN DOS MESES BAJA 20 PUNTO...   \n",
       "78                     NaN  RT @fernando_atria: ¿Qué le puedo comentar? So...   \n",
       "\n",
       "                        time  \\\n",
       "6  2021-09-18 16:53:45+00:00   \n",
       "28 2021-09-03 00:32:25+00:00   \n",
       "35 2021-09-05 22:34:08+00:00   \n",
       "74 2021-09-14 00:37:39+00:00   \n",
       "78 2021-09-03 21:08:29+00:00   \n",
       "\n",
       "                                      text_clean_sent  \\\n",
       "6   Las 1.128 ENMIENDAS presentadas a los REGLAMEN...   \n",
       "28  Franco Parisi expone el Verdadero motivo de po...   \n",
       "35  El Pelao Vade es de la misma CEPA que Ancalao ...   \n",
       "74  _LAprofe73 EN DOS MESES BAJA 20 PUNTOS LA CC ,...   \n",
       "78  _atria ¿Que le puedo comentar? Solo que lea el...   \n",
       "\n",
       "                                      text_clean_lang  \n",
       "6   las 1.128 enmiendas presentadas a los reglamen...  \n",
       "28  franco parisi expone el verdadero motivo de po...  \n",
       "35  el pelao vade es de la misma cepa que ancalao ...  \n",
       "74  _laprofe73 en dos meses baja 20 puntos la cc ,...  \n",
       "78  _atria ¿que le puedo comentar? solo que lea el...  "
      ]
     },
     "execution_count": 36,
     "metadata": {},
     "output_type": "execute_result"
    }
   ],
   "source": [
    "df.head()"
   ]
  },
  {
   "cell_type": "code",
   "execution_count": 37,
   "id": "d6ae88b5",
   "metadata": {
    "scrolled": true
   },
   "outputs": [
    {
     "data": {
      "image/png": "[encoded data removed]",
      "text/plain": [
       "<Figure size 1440x288 with 1 Axes>"
      ]
     },
     "metadata": {
      "needs_background": "light"
     },
     "output_type": "display_data"
    },
    {
     "name": "stdout",
     "output_type": "stream",
     "text": [
      "Wall time: 10.1 s\n"
     ]
    }
   ],
   "source": [
    "%%time\n",
    "plt.figure(figsize=(20, 4))\n",
    "plt.hist(df['time'], bins = 50, color='green')\n",
    "plt.show()"
   ]
  },
  {
   "cell_type": "markdown",
   "id": "2d2c026e",
   "metadata": {},
   "source": [
    "### Limpieza"
   ]
  },
  {
   "cell_type": "code",
   "execution_count": 31,
   "id": "037a7075",
   "metadata": {
    "scrolled": false
   },
   "outputs": [
    {
     "name": "stdout",
     "output_type": "stream",
     "text": [
      "Requirement already satisfied: spacy_langdetect in c:\\users\\max\\anaconda3\\lib\\site-packages (0.1.2)\n",
      "Requirement already satisfied: langdetect==1.0.7 in c:\\users\\max\\anaconda3\\lib\\site-packages (from spacy_langdetect) (1.0.7)\n",
      "Requirement already satisfied: pytest in c:\\users\\max\\anaconda3\\lib\\site-packages (from spacy_langdetect) (6.2.4)\n",
      "Requirement already satisfied: six in c:\\users\\max\\anaconda3\\lib\\site-packages (from langdetect==1.0.7->spacy_langdetect) (1.16.0)\n",
      "Requirement already satisfied: attrs>=19.2.0 in c:\\users\\max\\anaconda3\\lib\\site-packages (from pytest->spacy_langdetect) (21.4.0)\n",
      "Requirement already satisfied: iniconfig in c:\\users\\max\\anaconda3\\lib\\site-packages (from pytest->spacy_langdetect) (1.1.1)\n",
      "Requirement already satisfied: packaging in c:\\users\\max\\anaconda3\\lib\\site-packages (from pytest->spacy_langdetect) (21.0)\n",
      "Requirement already satisfied: pluggy<1.0.0a1,>=0.12 in c:\\users\\max\\anaconda3\\lib\\site-packages (from pytest->spacy_langdetect) (0.13.1)\n",
      "Requirement already satisfied: py>=1.8.2 in c:\\users\\max\\anaconda3\\lib\\site-packages (from pytest->spacy_langdetect) (1.10.0)\n",
      "Requirement already satisfied: toml in c:\\users\\max\\anaconda3\\lib\\site-packages (from pytest->spacy_langdetect) (0.10.2)\n",
      "Requirement already satisfied: atomicwrites>=1.0 in c:\\users\\max\\anaconda3\\lib\\site-packages (from pytest->spacy_langdetect) (1.4.0)\n",
      "Requirement already satisfied: colorama in c:\\users\\max\\anaconda3\\lib\\site-packages (from pytest->spacy_langdetect) (0.4.4)\n",
      "Requirement already satisfied: pyparsing>=2.0.2 in c:\\users\\max\\anaconda3\\lib\\site-packages (from packaging->pytest->spacy_langdetect) (3.0.4)\n"
     ]
    }
   ],
   "source": [
    "!pip install spacy_langdetect"
   ]
  },
  {
   "cell_type": "code",
   "execution_count": 12,
   "id": "449a30ae",
   "metadata": {
    "scrolled": true
   },
   "outputs": [
    {
     "name": "stdout",
     "output_type": "stream",
     "text": [
      "Collecting es-core-news-md==3.2.0\n",
      "  Downloading https://github.com/explosion/spacy-models/releases/download/es_core_news_md-3.2.0/es_core_news_md-3.2.0-py3-none-any.whl (43.4 MB)\n",
      "Requirement already satisfied: spacy<3.3.0,>=3.2.0 in c:\\users\\max\\anaconda3\\lib\\site-packages (from es-core-news-md==3.2.0) (3.2.4)\n",
      "Requirement already satisfied: tqdm<5.0.0,>=4.38.0 in c:\\users\\max\\anaconda3\\lib\\site-packages (from spacy<3.3.0,>=3.2.0->es-core-news-md==3.2.0) (4.62.3)\n",
      "Requirement already satisfied: blis<0.8.0,>=0.4.0 in c:\\users\\max\\anaconda3\\lib\\site-packages (from spacy<3.3.0,>=3.2.0->es-core-news-md==3.2.0) (0.7.7)\n",
      "Requirement already satisfied: catalogue<2.1.0,>=2.0.6 in c:\\users\\max\\anaconda3\\lib\\site-packages (from spacy<3.3.0,>=3.2.0->es-core-news-md==3.2.0) (2.0.7)\n",
      "Requirement already satisfied: srsly<3.0.0,>=2.4.1 in c:\\users\\max\\anaconda3\\lib\\site-packages (from spacy<3.3.0,>=3.2.0->es-core-news-md==3.2.0) (2.4.2)\n",
      "Requirement already satisfied: typer<0.5.0,>=0.3.0 in c:\\users\\max\\anaconda3\\lib\\site-packages (from spacy<3.3.0,>=3.2.0->es-core-news-md==3.2.0) (0.4.1)\n",
      "Requirement already satisfied: jinja2 in c:\\users\\max\\anaconda3\\lib\\site-packages (from spacy<3.3.0,>=3.2.0->es-core-news-md==3.2.0) (2.11.3)\n",
      "Requirement already satisfied: spacy-legacy<3.1.0,>=3.0.8 in c:\\users\\max\\anaconda3\\lib\\site-packages (from spacy<3.3.0,>=3.2.0->es-core-news-md==3.2.0) (3.0.9)\n",
      "Requirement already satisfied: langcodes<4.0.0,>=3.2.0 in c:\\users\\max\\anaconda3\\lib\\site-packages (from spacy<3.3.0,>=3.2.0->es-core-news-md==3.2.0) (3.3.0)\n",
      "Requirement already satisfied: pathy>=0.3.5 in c:\\users\\max\\anaconda3\\lib\\site-packages (from spacy<3.3.0,>=3.2.0->es-core-news-md==3.2.0) (0.6.1)\n",
      "Requirement already satisfied: numpy>=1.15.0 in c:\\users\\max\\anaconda3\\lib\\site-packages (from spacy<3.3.0,>=3.2.0->es-core-news-md==3.2.0) (1.20.3)\n",
      "Requirement already satisfied: requests<3.0.0,>=2.13.0 in c:\\users\\max\\anaconda3\\lib\\site-packages (from spacy<3.3.0,>=3.2.0->es-core-news-md==3.2.0) (2.28.1)\n",
      "Requirement already satisfied: click<8.1.0 in c:\\users\\max\\anaconda3\\lib\\site-packages (from spacy<3.3.0,>=3.2.0->es-core-news-md==3.2.0) (8.0.3)\n",
      "Requirement already satisfied: preshed<3.1.0,>=3.0.2 in c:\\users\\max\\anaconda3\\lib\\site-packages (from spacy<3.3.0,>=3.2.0->es-core-news-md==3.2.0) (3.0.6)\n",
      "Requirement already satisfied: packaging>=20.0 in c:\\users\\max\\anaconda3\\lib\\site-packages (from spacy<3.3.0,>=3.2.0->es-core-news-md==3.2.0) (21.0)\n",
      "Requirement already satisfied: pydantic!=1.8,!=1.8.1,<1.9.0,>=1.7.4 in c:\\users\\max\\anaconda3\\lib\\site-packages (from spacy<3.3.0,>=3.2.0->es-core-news-md==3.2.0) (1.8.2)\n",
      "Requirement already satisfied: spacy-loggers<2.0.0,>=1.0.0 in c:\\users\\max\\anaconda3\\lib\\site-packages (from spacy<3.3.0,>=3.2.0->es-core-news-md==3.2.0) (1.0.2)\n",
      "Requirement already satisfied: murmurhash<1.1.0,>=0.28.0 in c:\\users\\max\\anaconda3\\lib\\site-packages (from spacy<3.3.0,>=3.2.0->es-core-news-md==3.2.0) (1.0.6)\n",
      "Requirement already satisfied: thinc<8.1.0,>=8.0.12 in c:\\users\\max\\anaconda3\\lib\\site-packages (from spacy<3.3.0,>=3.2.0->es-core-news-md==3.2.0) (8.0.15)\n",
      "Requirement already satisfied: cymem<2.1.0,>=2.0.2 in c:\\users\\max\\anaconda3\\lib\\site-packages (from spacy<3.3.0,>=3.2.0->es-core-news-md==3.2.0) (2.0.6)\n",
      "Requirement already satisfied: wasabi<1.1.0,>=0.8.1 in c:\\users\\max\\anaconda3\\lib\\site-packages (from spacy<3.3.0,>=3.2.0->es-core-news-md==3.2.0) (0.9.1)\n",
      "Requirement already satisfied: setuptools in c:\\users\\max\\anaconda3\\lib\\site-packages (from spacy<3.3.0,>=3.2.0->es-core-news-md==3.2.0) (58.0.4)\n",
      "Requirement already satisfied: colorama in c:\\users\\max\\anaconda3\\lib\\site-packages (from click<8.1.0->spacy<3.3.0,>=3.2.0->es-core-news-md==3.2.0) (0.4.4)\n",
      "Requirement already satisfied: pyparsing>=2.0.2 in c:\\users\\max\\anaconda3\\lib\\site-packages (from packaging>=20.0->spacy<3.3.0,>=3.2.0->es-core-news-md==3.2.0) (3.0.4)\n",
      "Requirement already satisfied: smart-open<6.0.0,>=5.0.0 in c:\\users\\max\\anaconda3\\lib\\site-packages (from pathy>=0.3.5->spacy<3.3.0,>=3.2.0->es-core-news-md==3.2.0) (5.2.1)\n",
      "Requirement already satisfied: typing-extensions>=3.7.4.3 in c:\\users\\max\\anaconda3\\lib\\site-packages (from pydantic!=1.8,!=1.8.1,<1.9.0,>=1.7.4->spacy<3.3.0,>=3.2.0->es-core-news-md==3.2.0) (3.10.0.2)\n",
      "Requirement already satisfied: charset-normalizer<3,>=2 in c:\\users\\max\\anaconda3\\lib\\site-packages (from requests<3.0.0,>=2.13.0->spacy<3.3.0,>=3.2.0->es-core-news-md==3.2.0) (2.0.4)\n",
      "Requirement already satisfied: certifi>=2017.4.17 in c:\\users\\max\\anaconda3\\lib\\site-packages (from requests<3.0.0,>=2.13.0->spacy<3.3.0,>=3.2.0->es-core-news-md==3.2.0) (2022.6.15)\n",
      "Requirement already satisfied: urllib3<1.27,>=1.21.1 in c:\\users\\max\\anaconda3\\lib\\site-packages (from requests<3.0.0,>=2.13.0->spacy<3.3.0,>=3.2.0->es-core-news-md==3.2.0) (1.26.10)\n",
      "Requirement already satisfied: idna<4,>=2.5 in c:\\users\\max\\anaconda3\\lib\\site-packages (from requests<3.0.0,>=2.13.0->spacy<3.3.0,>=3.2.0->es-core-news-md==3.2.0) (3.3)\n",
      "Requirement already satisfied: MarkupSafe>=0.23 in c:\\users\\max\\anaconda3\\lib\\site-packages (from jinja2->spacy<3.3.0,>=3.2.0->es-core-news-md==3.2.0) (1.1.1)\n",
      "[+] Download and installation successful\n",
      "You can now load the package via spacy.load('es_core_news_md')\n"
     ]
    }
   ],
   "source": [
    "!python -m spacy download es_core_news_md"
   ]
  },
  {
   "cell_type": "code",
   "execution_count": 38,
   "id": "9d9298e6",
   "metadata": {},
   "outputs": [],
   "source": [
    "# Función para limpiar texto\n",
    "from unicodedata import normalize\n",
    "import regex as re\n",
    "def clean_text_sent(s):\n",
    "    s = re.sub('http\\S+', ' ', s + ' ') # Eliminar urls\n",
    "    s = re.sub('RT', '', s)\n",
    "    s = re.sub(': ', ' ', s)\n",
    "    s = re.sub('@[A-Za-z0-9]+', ' ', s + ' ') # Eliminar @cuentas\n",
    "    s = re.sub(r\"([^n\\u0300-\\u036f]|n(?!\\u0303(?![\\u0300-\\u036f])))[\\u0300-\\u036f]+\", r\"\\1\", normalize('NFD', s), 0, re.I)\n",
    "    s = re.sub('…', '', s)\n",
    "    s = re.sub('\\n', ' ', s)\n",
    "    s = re.sub(' +',' ', s).strip()\n",
    "    return s\n",
    "\n",
    "def clean_text_lang(s):\n",
    "    s = s.lower()\n",
    "    s = re.sub('http\\S+', ' ', s + ' ') # Eliminar urls\n",
    "    s = re.sub('rt', '', s)\n",
    "    s = re.sub(': ', ' ', s)\n",
    "    s = re.sub('@[A-Za-z0-9]+', ' ', s + ' ') # Eliminar @cuentas\n",
    "    s = re.sub('#[a-zA-Z0-9_]', ' ', s + ' ') # Eliminar #Hashtags\n",
    "    s = re.sub('<[^\\s]*>', ' ', s + ' ') # Eliminar emoticones <U+0001F3AA>\n",
    "    s = re.sub(r\"([^n\\u0300-\\u036f]|n(?!\\u0303(?![\\u0300-\\u036f])))[\\u0300-\\u036f]+\", r\"\\1\", normalize('NFD', s), 0, re.I)\n",
    "    s = re.sub('…', '', s)\n",
    "    s = re.sub('\\n', ' ', s)\n",
    "    s = re.sub(' +',' ', s).strip()\n",
    "  \n",
    "    return s"
   ]
  },
  {
   "cell_type": "code",
   "execution_count": 39,
   "id": "cb99ea37",
   "metadata": {},
   "outputs": [
    {
     "name": "stdout",
     "output_type": "stream",
     "text": [
      "Wall time: 1min 43s\n"
     ]
    }
   ],
   "source": [
    "%%time\n",
    "# Limpiar textos y nueva columna\n",
    "df['text_clean_sent'] = df.text.apply(clean_text_sent)\n",
    "df['text_clean_lang'] = df.text.apply(clean_text_lang)"
   ]
  },
  {
   "cell_type": "code",
   "execution_count": 15,
   "id": "12c56614",
   "metadata": {
    "scrolled": true
   },
   "outputs": [
    {
     "data": {
      "text/plain": [
       "<spacy_langdetect.spacy_langdetect.LanguageDetector at 0x1ff90c8b550>"
      ]
     },
     "execution_count": 15,
     "metadata": {},
     "output_type": "execute_result"
    }
   ],
   "source": [
    "import spacy\n",
    "from spacy.language import Language\n",
    "from spacy_langdetect import LanguageDetector\n",
    "\n",
    "def get_lang_detector(nlp, name):\n",
    "    return LanguageDetector()\n",
    "\n",
    "nlp = spacy.load(\"es_core_news_md\")\n",
    "Language.factory(\"language_detector\", func=get_lang_detector)\n",
    "nlp.add_pipe('language_detector', last=True)\n"
   ]
  },
  {
   "cell_type": "code",
   "execution_count": 16,
   "id": "98dfb5f8",
   "metadata": {},
   "outputs": [
    {
     "name": "stdout",
     "output_type": "stream",
     "text": [
      "{'language': 'en', 'score': 0.9999957110923606}\n"
     ]
    }
   ],
   "source": [
    "text = '_LAprofe73 LES COMPAO ESTAS LINDAS IMAGENES DEL MERCADO DE LA CIUDAD DE IQUIQUE , CONVEIDA EN LA CAPITAL DE NUEVA ZELANDA . GR'\n",
    "doc = nlp(text)\n",
    "print(doc._.language)"
   ]
  },
  {
   "cell_type": "code",
   "execution_count": 68,
   "id": "191cbf47",
   "metadata": {
    "scrolled": true
   },
   "outputs": [
    {
     "name": "stdout",
     "output_type": "stream",
     "text": [
      "10000\n",
      "20000\n",
      "30000\n",
      "40000\n",
      "50000\n",
      "60000\n",
      "70000\n",
      "80000\n",
      "90000\n",
      "100000\n",
      "110000\n",
      "120000\n",
      "130000\n",
      "140000\n",
      "150000\n",
      "160000\n",
      "170000\n",
      "180000\n",
      "190000\n",
      "200000\n",
      "210000\n",
      "220000\n",
      "230000\n",
      "240000\n",
      "250000\n",
      "260000\n",
      "270000\n",
      "280000\n",
      "290000\n",
      "300000\n",
      "310000\n",
      "320000\n",
      "330000\n",
      "340000\n",
      "350000\n",
      "360000\n",
      "370000\n",
      "380000\n",
      "390000\n",
      "400000\n",
      "410000\n",
      "420000\n",
      "430000\n",
      "440000\n",
      "450000\n",
      "460000\n",
      "470000\n",
      "480000\n",
      "490000\n",
      "500000\n",
      "510000\n",
      "520000\n",
      "530000\n",
      "540000\n",
      "550000\n",
      "560000\n",
      "570000\n",
      "580000\n",
      "590000\n",
      "600000\n",
      "610000\n",
      "620000\n",
      "630000\n",
      "640000\n",
      "650000\n",
      "660000\n",
      "670000\n",
      "680000\n",
      "690000\n",
      "700000\n",
      "710000\n",
      "720000\n",
      "730000\n",
      "740000\n",
      "750000\n",
      "760000\n",
      "770000\n",
      "780000\n",
      "790000\n",
      "800000\n",
      "810000\n",
      "820000\n",
      "830000\n",
      "840000\n",
      "850000\n",
      "860000\n",
      "870000\n",
      "880000\n",
      "890000\n",
      "75963\n",
      "Wall time: 5h 51min 21s\n"
     ]
    }
   ],
   "source": [
    "%%time\n",
    "keywords=['chile', 'convencion', 'constitucion', 'marinovic', ' afp ', 'retiros', 'feminista', 'la cc', 'boric',\n",
    "         'constituyente', 'constituyentes', 'loncon']\n",
    "ls_indices = []\n",
    "ls_out = []\n",
    "c = 0\n",
    "out = 0\n",
    "for idx, row in df.iterrows():\n",
    "    c+=1\n",
    "    if (c%10000 == 0):\n",
    "        print(c)\n",
    "    txt = row.text_clean_lang\n",
    "    doc = nlp(txt)\n",
    "    lang = doc._.language['language']\n",
    "    score = doc._.language['score']\n",
    "    if (lang == 'es') or (lang == 'pt') or any(word in txt for word in keywords):\n",
    "        ls_indices.append(idx)\n",
    "    else:\n",
    "        out+=1\n",
    "        ls_out.append(idx)\n",
    "        \n",
    "print(out)"
   ]
  },
  {
   "cell_type": "code",
   "execution_count": 69,
   "id": "4c252959",
   "metadata": {},
   "outputs": [],
   "source": [
    "df_lang = df.loc[ls_indices]"
   ]
  },
  {
   "cell_type": "code",
   "execution_count": 71,
   "id": "0945297a",
   "metadata": {},
   "outputs": [],
   "source": [
    "df_lang.to_csv('df_lang.csv',index=False)"
   ]
  },
  {
   "cell_type": "code",
   "execution_count": null,
   "id": "1a682a15",
   "metadata": {},
   "outputs": [],
   "source": [
    "df_lang.to_csv('tweets_inflexion_language.csv', index=False)"
   ]
  },
  {
   "cell_type": "code",
   "execution_count": null,
   "id": "51e6d1ea",
   "metadata": {},
   "outputs": [],
   "source": [
    "df.iloc[0].text"
   ]
  },
  {
   "cell_type": "markdown",
   "id": "3b71cd69",
   "metadata": {},
   "source": [
    "### Otras cosas"
   ]
  },
  {
   "cell_type": "code",
   "execution_count": null,
   "id": "556a9fcb",
   "metadata": {},
   "outputs": [],
   "source": [
    "%%time\n",
    "dic_screen = {}\n",
    "for _, row in dataset.iterrows():\n",
    "    user_id = row.user_id\n",
    "    screen = row.screen_name\n",
    "    if user_id not in dic_screen:\n",
    "        dic_screen[screen] = user_id"
   ]
  },
  {
   "cell_type": "code",
   "execution_count": null,
   "id": "3e4b7fda",
   "metadata": {
    "scrolled": true
   },
   "outputs": [],
   "source": [
    "%%time\n",
    "# Esto crea un dataframe basado en los retweet de la forma usuario1 retweetea a usuario2\n",
    "df_rt = df_date_filter[df_date_filter['text'].str.contains(\"RT @\")]\n",
    "rt_dict = {}\n",
    "ls_pares = []\n",
    "for _, row in df_rt.iterrows():\n",
    "    txt = row['text'].split(':')[0]\n",
    "    rt_user = txt.split('@')[-1]\n",
    "    try:\n",
    "        pair = sorted([row.screen_name, rt_user])\n",
    "        if pair[0] != pair[1]:\n",
    "            pair[0] = str(pair[0])\n",
    "            pair[1] = str(pair[1])\n",
    "            key = ' '.join(pair)\n",
    "            ls_pares.append(pair[0] + \" \" + pair[1])\n",
    "            if key not in rt_dict:\n",
    "                rt_dict[key] = 0\n",
    "            rt_dict[key] += 1\n",
    "    except:\n",
    "        pass\n",
    "df_pares = pd.DataFrame(ls_pares, columns=['users'])\n",
    "\n",
    "users_cant = df_pares.groupby('users').size().reset_index(name='counts')\n",
    "df_cant_pares = users_cant[users_cant['counts'] > 0]\n",
    "ls_users = []\n",
    "\n",
    "df_usuarios = df_cant_pares['users'].str.split(' ', expand=True).rename({0: 'user1', 1: 'user2'}, axis=1)\n",
    "df_usuarios.head()"
   ]
  },
  {
   "cell_type": "code",
   "execution_count": null,
   "id": "99fc3481",
   "metadata": {},
   "outputs": [],
   "source": [
    "df_usuarios = df_usuarios[['user1', 'user2']]"
   ]
  },
  {
   "cell_type": "code",
   "execution_count": null,
   "id": "40be2d4b",
   "metadata": {
    "scrolled": false
   },
   "outputs": [],
   "source": [
    "u1 = df_usuarios.user1.to_list()\n",
    "u2 = df_usuarios.user2.to_list()\n",
    "u = list(set(u1 + u2))\n",
    "len(u)"
   ]
  },
  {
   "cell_type": "code",
   "execution_count": null,
   "id": "023afa77",
   "metadata": {},
   "outputs": [],
   "source": [
    "df_user_filter = df_date_filter[df_date_filter.screen_name.isin(u)]"
   ]
  },
  {
   "cell_type": "code",
   "execution_count": null,
   "id": "6f3d5119",
   "metadata": {},
   "outputs": [],
   "source": [
    "df_user_filter.to_csv('tweets_tesis.csv', index=False)"
   ]
  },
  {
   "cell_type": "markdown",
   "id": "fdf0b0d5",
   "metadata": {},
   "source": [
    "## Rest"
   ]
  },
  {
   "cell_type": "code",
   "execution_count": null,
   "id": "a7149de9",
   "metadata": {},
   "outputs": [],
   "source": [
    "df = df_user_filter"
   ]
  },
  {
   "cell_type": "code",
   "execution_count": null,
   "id": "1640dcbd",
   "metadata": {},
   "outputs": [],
   "source": [
    "def hashtags(dataset):\n",
    "    hash_dic = {}\n",
    "    for _, row in dataset.iterrows():\n",
    "        text = row.text\n",
    "        words = text.split(' ')\n",
    "        ls_hashtags = []\n",
    "        for w in words:\n",
    "            try:\n",
    "                if w[0] == '#':\n",
    "                    ls_hashtags.append(w)\n",
    "            except:\n",
    "                pass\n",
    "        for h in ls_hashtags:\n",
    "            if h not in hash_dic:\n",
    "                hash_dic[h] = 0\n",
    "            hash_dic[h] += 1\n",
    "    return hash_dic\n",
    "\n",
    "def order_dic(dic_hashtags):\n",
    "    for k in sorted(dic_hashtags, key=dic_hashtags.get, reverse=True):\n",
    "        print(k, dic_hashtags[k])"
   ]
  },
  {
   "cell_type": "markdown",
   "id": "dfefc40b",
   "metadata": {},
   "source": [
    "### Maria Elisa Quinteros Presidencia (5 de Enero 2022)"
   ]
  },
  {
   "cell_type": "code",
   "execution_count": null,
   "id": "1ef161bb",
   "metadata": {},
   "outputs": [],
   "source": [
    "meq = df[(df.created_at > '2022-01-05') & (df.created_at < '2022-01-12')]"
   ]
  },
  {
   "cell_type": "code",
   "execution_count": null,
   "id": "289bf996",
   "metadata": {
    "scrolled": true
   },
   "outputs": [],
   "source": [
    "meq = meq[meq.text.str.contains(\"Maria Elisa Quinteros|María Elisa Quinteros|MEQ\")]"
   ]
  },
  {
   "cell_type": "code",
   "execution_count": null,
   "id": "855a9ceb",
   "metadata": {},
   "outputs": [],
   "source": [
    "len(meq)"
   ]
  },
  {
   "cell_type": "code",
   "execution_count": null,
   "id": "2a0ee4d3",
   "metadata": {},
   "outputs": [],
   "source": [
    "meq.to_csv('Noticias/MEQ_tweets.csv', index=False)"
   ]
  },
  {
   "cell_type": "markdown",
   "id": "c78609ad",
   "metadata": {},
   "source": [
    "### Borrador (Junio 2022)"
   ]
  },
  {
   "cell_type": "code",
   "execution_count": null,
   "id": "a4a692ce",
   "metadata": {},
   "outputs": [],
   "source": [
    "borrado = df[(df.created_at > '2022-06-27') & (df.created_at < '2022-07-10')]"
   ]
  },
  {
   "cell_type": "code",
   "execution_count": null,
   "id": "ba744ecf",
   "metadata": {},
   "outputs": [],
   "source": [
    "borrado = borrado[borrado.text.str.contains(\"borrador|Borrador\")]"
   ]
  },
  {
   "cell_type": "code",
   "execution_count": null,
   "id": "ea292b00",
   "metadata": {},
   "outputs": [],
   "source": [
    "len(borrado)"
   ]
  },
  {
   "cell_type": "code",
   "execution_count": null,
   "id": "3f06c8b1",
   "metadata": {},
   "outputs": [],
   "source": [
    "borrado.to_csv('Noticias/Borrador_tweets.csv', index=False)"
   ]
  },
  {
   "cell_type": "markdown",
   "id": "4590c615",
   "metadata": {},
   "source": [
    "### Fin del Senado (Mayo 2022)"
   ]
  },
  {
   "cell_type": "code",
   "execution_count": null,
   "id": "38f5ed95",
   "metadata": {},
   "outputs": [],
   "source": [
    "senado = df[(df.created_at > '2022-04-12') & (df.created_at < '2022-04-20')]"
   ]
  },
  {
   "cell_type": "code",
   "execution_count": null,
   "id": "10c48586",
   "metadata": {},
   "outputs": [],
   "source": [
    "senado = senado[senado.text.str.contains(\"Senado|senado\")]"
   ]
  },
  {
   "cell_type": "code",
   "execution_count": null,
   "id": "35f7510e",
   "metadata": {},
   "outputs": [],
   "source": [
    "len(senado)"
   ]
  },
  {
   "cell_type": "code",
   "execution_count": null,
   "id": "9f22dbf1",
   "metadata": {},
   "outputs": [],
   "source": [
    "senado.to_csv('Noticias/Senado_tweets.csv', index=False)"
   ]
  },
  {
   "cell_type": "markdown",
   "id": "95d58cd8",
   "metadata": {},
   "source": [
    "### Embarazo (Marzo 2022)"
   ]
  },
  {
   "cell_type": "code",
   "execution_count": null,
   "id": "2d6edbb5",
   "metadata": {},
   "outputs": [],
   "source": [
    "embarazo = df[(df.created_at > '2022-03-14') & (df.created_at < '2022-03-23')]"
   ]
  },
  {
   "cell_type": "code",
   "execution_count": null,
   "id": "eb9ced81",
   "metadata": {},
   "outputs": [],
   "source": [
    "embarazo = embarazo[embarazo.text.str.contains(\"Aborto|aborto|interrupción voluntaria|interrupcion voluntaria|embarazo\")]"
   ]
  },
  {
   "cell_type": "code",
   "execution_count": null,
   "id": "2897574a",
   "metadata": {
    "scrolled": false
   },
   "outputs": [],
   "source": [
    "len(embarazo)"
   ]
  },
  {
   "cell_type": "code",
   "execution_count": null,
   "id": "5805c999",
   "metadata": {},
   "outputs": [],
   "source": [
    "embarazo.to_csv('Noticias/Embarazo_tweets.csv', index=False)"
   ]
  },
  {
   "cell_type": "code",
   "execution_count": null,
   "id": "186b7349",
   "metadata": {},
   "outputs": [],
   "source": [
    "%%time\n",
    "# Esto crea un dataframe basado en los retweet de la forma usuario1 retweetea a usuario2\n",
    "df_rt = meq[meq['text'].str.contains(\"RT @\")]\n",
    "rt_dict = {}\n",
    "ls_pares = []\n",
    "for _, row in df_rt.iterrows():\n",
    "    txt = row['text'].split(':')[0]\n",
    "    rt_user = txt.split('@')[-1]\n",
    "    try:\n",
    "        pair = sorted([row.screen_name, rt_user])\n",
    "        if pair[0] != pair[1]:\n",
    "            pair[0] = str(pair[0])\n",
    "            pair[1] = str(pair[1])\n",
    "            key = ' '.join(pair)\n",
    "            ls_pares.append(pair[0] + \" \" + pair[1])\n",
    "            if key not in rt_dict:\n",
    "                rt_dict[key] = 0\n",
    "            rt_dict[key] += 1\n",
    "    except:\n",
    "        pass\n",
    "df_pares = pd.DataFrame(ls_pares, columns=['users'])\n",
    "\n",
    "users_cant = df_pares.groupby('users').size().reset_index(name='counts')\n",
    "df_cant_pares = users_cant[users_cant['counts'] > 0]\n",
    "ls_users = []\n",
    "\n",
    "df_usuarios = df_cant_pares['users'].str.split(' ', expand=True).rename({0: 'user1', 1: 'user2'}, axis=1)\n",
    "df_usuarios"
   ]
  }
 ],
 "metadata": {
  "kernelspec": {
   "display_name": "Python 3 (ipykernel)",
   "language": "python",
   "name": "python3"
  },
  "language_info": {
   "codemirror_mode": {
    "name": "ipython",
    "version": 3
   },
   "file_extension": ".py",
   "mimetype": "text/x-python",
   "name": "python",
   "nbconvert_exporter": "python",
   "pygments_lexer": "ipython3",
   "version": "3.9.7"
  }
 },
 "nbformat": 4,
 "nbformat_minor": 5
}
