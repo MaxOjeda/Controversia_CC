{
 "cells": [
  {
   "cell_type": "code",
   "execution_count": 1,
   "id": "8087ae0b",
   "metadata": {},
   "outputs": [],
   "source": [
    "import pandas as pd\n",
    "from datetime import datetime\n",
    "import matplotlib.pyplot as plt"
   ]
  },
  {
   "cell_type": "code",
   "execution_count": 2,
   "id": "2def1d1c",
   "metadata": {
    "scrolled": true
   },
   "outputs": [
    {
     "name": "stderr",
     "output_type": "stream",
     "text": [
      "C:\\Users\\Max\\anaconda3\\lib\\site-packages\\IPython\\core\\interactiveshell.py:3444: DtypeWarning: Columns (0,1,4,8,9) have mixed types.Specify dtype option on import or set low_memory=False.\n",
      "  exec(code_obj, self.user_global_ns, self.user_ns)\n",
      "C:\\Users\\Max\\anaconda3\\lib\\site-packages\\IPython\\core\\interactiveshell.py:3444: DtypeWarning: Columns (0,8) have mixed types.Specify dtype option on import or set low_memory=False.\n",
      "  exec(code_obj, self.user_global_ns, self.user_ns)\n"
     ]
    }
   ],
   "source": [
    "df = pd.read_csv('tesis_data_raw.csv')\n",
    "df2 = pd.read_csv('tesis_data_raw_second.csv')\n",
    "del df['Unnamed: 0']\n",
    "del df2['Unnamed: 0']"
   ]
  },
  {
   "cell_type": "code",
   "execution_count": 3,
   "id": "e6fb06f3",
   "metadata": {
    "scrolled": true
   },
   "outputs": [
    {
     "data": {
      "text/plain": [
       "15982806"
      ]
     },
     "execution_count": 3,
     "metadata": {},
     "output_type": "execute_result"
    }
   ],
   "source": [
    "df = pd.concat([df, df2], axis=0)\n",
    "len(df)"
   ]
  },
  {
   "cell_type": "markdown",
   "id": "7f9c898b",
   "metadata": {},
   "source": [
    "## Preprocesamiento de datos"
   ]
  },
  {
   "cell_type": "code",
   "execution_count": 16,
   "id": "ae5c85fd",
   "metadata": {},
   "outputs": [
    {
     "name": "stdout",
     "output_type": "stream",
     "text": [
      "2018-10-10 20:19:24+00:00 2022-07-14 00:00:00+00:00\n"
     ]
    }
   ],
   "source": [
    "df = df[df['created_at'].notna()]\n",
    "print(df.created_at.min(), df.created_at.max())"
   ]
  },
  {
   "cell_type": "code",
   "execution_count": 17,
   "id": "3daa2e59",
   "metadata": {},
   "outputs": [],
   "source": [
    "df['time'] = pd.to_datetime(df['created_at'])"
   ]
  },
  {
   "cell_type": "code",
   "execution_count": 20,
   "id": "ab12961e",
   "metadata": {},
   "outputs": [],
   "source": [
    "df = df.drop_duplicates(subset=['id'])\n",
    "df = df[df['time'].notna()]"
   ]
  },
  {
   "cell_type": "code",
   "execution_count": 22,
   "id": "8d8972a6",
   "metadata": {},
   "outputs": [
    {
     "data": {
      "text/plain": [
       "14403362"
      ]
     },
     "execution_count": 22,
     "metadata": {},
     "output_type": "execute_result"
    }
   ],
   "source": [
    "len(df)"
   ]
  },
  {
   "cell_type": "code",
   "execution_count": 23,
   "id": "c50f04c8",
   "metadata": {},
   "outputs": [
    {
     "data": {
      "text/plain": [
       "14379477"
      ]
     },
     "execution_count": 23,
     "metadata": {},
     "output_type": "execute_result"
    }
   ],
   "source": [
    "df_date_filter = df[df.time > '2021-08-15']\n",
    "len(df_date_filter)"
   ]
  },
  {
   "cell_type": "code",
   "execution_count": 26,
   "id": "d6ae88b5",
   "metadata": {},
   "outputs": [
    {
     "data": {
      "image/png": "[encoded data removed]",
      "text/plain": [
       "<Figure size 1440x288 with 1 Axes>"
      ]
     },
     "metadata": {
      "needs_background": "light"
     },
     "output_type": "display_data"
    },
    {
     "name": "stdout",
     "output_type": "stream",
     "text": [
      "Wall time: 3min 11s\n"
     ]
    }
   ],
   "source": [
    "%%time\n",
    "plt.figure(figsize=(20, 4))\n",
    "plt.hist(df_date_filter['time'], bins = 40)\n",
    "plt.show()"
   ]
  },
  {
   "cell_type": "markdown",
   "id": "2d2c026e",
   "metadata": {},
   "source": [
    "#### Filtros de texto"
   ]
  },
  {
   "cell_type": "code",
   "execution_count": 38,
   "id": "556a9fcb",
   "metadata": {},
   "outputs": [
    {
     "name": "stdout",
     "output_type": "stream",
     "text": [
      "Wall time: 4min 15s\n"
     ]
    }
   ],
   "source": [
    "%%time\n",
    "dic_screen = {}\n",
    "for _, row in dataset.iterrows():\n",
    "    user_id = row.user_id\n",
    "    screen = row.screen_name\n",
    "    if user_id not in dic_screen:\n",
    "        dic_screen[screen] = user_id"
   ]
  },
  {
   "cell_type": "code",
   "execution_count": 39,
   "id": "3e4b7fda",
   "metadata": {
    "scrolled": true
   },
   "outputs": [
    {
     "name": "stdout",
     "output_type": "stream",
     "text": [
      "Wall time: 12min 43s\n"
     ]
    },
    {
     "data": {
      "text/html": [
       "<div>\n",
       "<style scoped>\n",
       "    .dataframe tbody tr th:only-of-type {\n",
       "        vertical-align: middle;\n",
       "    }\n",
       "\n",
       "    .dataframe tbody tr th {\n",
       "        vertical-align: top;\n",
       "    }\n",
       "\n",
       "    .dataframe thead th {\n",
       "        text-align: right;\n",
       "    }\n",
       "</style>\n",
       "<table border=\"1\" class=\"dataframe\">\n",
       "  <thead>\n",
       "    <tr style=\"text-align: right;\">\n",
       "      <th></th>\n",
       "      <th>user1</th>\n",
       "      <th>user2</th>\n",
       "      <th>2</th>\n",
       "      <th>3</th>\n",
       "      <th>4</th>\n",
       "      <th>5</th>\n",
       "      <th>6</th>\n",
       "      <th>7</th>\n",
       "      <th>8</th>\n",
       "      <th>9</th>\n",
       "      <th>...</th>\n",
       "      <th>23</th>\n",
       "      <th>24</th>\n",
       "      <th>25</th>\n",
       "      <th>26</th>\n",
       "      <th>27</th>\n",
       "      <th>28</th>\n",
       "      <th>29</th>\n",
       "      <th>30</th>\n",
       "      <th>31</th>\n",
       "      <th>32</th>\n",
       "    </tr>\n",
       "  </thead>\n",
       "  <tbody>\n",
       "    <tr>\n",
       "      <th>0</th>\n",
       "      <td></td>\n",
       "      <td>https</td>\n",
       "      <td>Maritecbb</td>\n",
       "      <td>None</td>\n",
       "      <td>None</td>\n",
       "      <td>None</td>\n",
       "      <td>None</td>\n",
       "      <td>None</td>\n",
       "      <td>None</td>\n",
       "      <td>None</td>\n",
       "      <td>...</td>\n",
       "      <td>None</td>\n",
       "      <td>None</td>\n",
       "      <td>None</td>\n",
       "      <td>None</td>\n",
       "      <td>None</td>\n",
       "      <td>None</td>\n",
       "      <td>None</td>\n",
       "      <td>None</td>\n",
       "      <td>None</td>\n",
       "      <td>None</td>\n",
       "    </tr>\n",
       "    <tr>\n",
       "      <th>1</th>\n",
       "      <td></td>\n",
       "      <td>taroohashi</td>\n",
       "      <td>BMagaBot</td>\n",
       "      <td>None</td>\n",
       "      <td>None</td>\n",
       "      <td>None</td>\n",
       "      <td>None</td>\n",
       "      <td>None</td>\n",
       "      <td>None</td>\n",
       "      <td>None</td>\n",
       "      <td>...</td>\n",
       "      <td>None</td>\n",
       "      <td>None</td>\n",
       "      <td>None</td>\n",
       "      <td>None</td>\n",
       "      <td>None</td>\n",
       "      <td>None</td>\n",
       "      <td>None</td>\n",
       "      <td>None</td>\n",
       "      <td>None</td>\n",
       "      <td>None</td>\n",
       "    </tr>\n",
       "    <tr>\n",
       "      <th>2</th>\n",
       "      <td>(Fun</td>\n",
       "      <td>Fact</td>\n",
       "      <td>RealFlyTy</td>\n",
       "      <td>None</td>\n",
       "      <td>None</td>\n",
       "      <td>None</td>\n",
       "      <td>None</td>\n",
       "      <td>None</td>\n",
       "      <td>None</td>\n",
       "      <td>None</td>\n",
       "      <td>...</td>\n",
       "      <td>None</td>\n",
       "      <td>None</td>\n",
       "      <td>None</td>\n",
       "      <td>None</td>\n",
       "      <td>None</td>\n",
       "      <td>None</td>\n",
       "      <td>None</td>\n",
       "      <td>None</td>\n",
       "      <td>None</td>\n",
       "      <td>None</td>\n",
       "    </tr>\n",
       "    <tr>\n",
       "      <th>3</th>\n",
       "      <td>0000000000000JL</td>\n",
       "      <td>EmiliaNoyupi</td>\n",
       "      <td>None</td>\n",
       "      <td>None</td>\n",
       "      <td>None</td>\n",
       "      <td>None</td>\n",
       "      <td>None</td>\n",
       "      <td>None</td>\n",
       "      <td>None</td>\n",
       "      <td>None</td>\n",
       "      <td>...</td>\n",
       "      <td>None</td>\n",
       "      <td>None</td>\n",
       "      <td>None</td>\n",
       "      <td>None</td>\n",
       "      <td>None</td>\n",
       "      <td>None</td>\n",
       "      <td>None</td>\n",
       "      <td>None</td>\n",
       "      <td>None</td>\n",
       "      <td>None</td>\n",
       "    </tr>\n",
       "    <tr>\n",
       "      <th>4</th>\n",
       "      <td>0000000000000JL</td>\n",
       "      <td>Fontirroig11S</td>\n",
       "      <td>None</td>\n",
       "      <td>None</td>\n",
       "      <td>None</td>\n",
       "      <td>None</td>\n",
       "      <td>None</td>\n",
       "      <td>None</td>\n",
       "      <td>None</td>\n",
       "      <td>None</td>\n",
       "      <td>...</td>\n",
       "      <td>None</td>\n",
       "      <td>None</td>\n",
       "      <td>None</td>\n",
       "      <td>None</td>\n",
       "      <td>None</td>\n",
       "      <td>None</td>\n",
       "      <td>None</td>\n",
       "      <td>None</td>\n",
       "      <td>None</td>\n",
       "      <td>None</td>\n",
       "    </tr>\n",
       "  </tbody>\n",
       "</table>\n",
       "<p>5 rows × 33 columns</p>\n",
       "</div>"
      ],
      "text/plain": [
       "             user1          user2          2     3     4     5     6     7  \\\n",
       "0                           https  Maritecbb  None  None  None  None  None   \n",
       "1                      taroohashi   BMagaBot  None  None  None  None  None   \n",
       "2             (Fun           Fact  RealFlyTy  None  None  None  None  None   \n",
       "3  0000000000000JL   EmiliaNoyupi       None  None  None  None  None  None   \n",
       "4  0000000000000JL  Fontirroig11S       None  None  None  None  None  None   \n",
       "\n",
       "      8     9  ...    23    24    25    26    27    28    29    30    31    32  \n",
       "0  None  None  ...  None  None  None  None  None  None  None  None  None  None  \n",
       "1  None  None  ...  None  None  None  None  None  None  None  None  None  None  \n",
       "2  None  None  ...  None  None  None  None  None  None  None  None  None  None  \n",
       "3  None  None  ...  None  None  None  None  None  None  None  None  None  None  \n",
       "4  None  None  ...  None  None  None  None  None  None  None  None  None  None  \n",
       "\n",
       "[5 rows x 33 columns]"
      ]
     },
     "execution_count": 39,
     "metadata": {},
     "output_type": "execute_result"
    }
   ],
   "source": [
    "%%time\n",
    "# Esto crea un dataframe basado en los retweet de la forma usuario1 retweetea a usuario2\n",
    "df_rt = df_date_filter[df_date_filter['text'].str.contains(\"RT @\")]\n",
    "rt_dict = {}\n",
    "ls_pares = []\n",
    "for _, row in df_rt.iterrows():\n",
    "    txt = row['text'].split(':')[0]\n",
    "    rt_user = txt.split('@')[-1]\n",
    "    try:\n",
    "        pair = sorted([row.screen_name, rt_user])\n",
    "        if pair[0] != pair[1]:\n",
    "            pair[0] = str(pair[0])\n",
    "            pair[1] = str(pair[1])\n",
    "            key = ' '.join(pair)\n",
    "            ls_pares.append(pair[0] + \" \" + pair[1])\n",
    "            if key not in rt_dict:\n",
    "                rt_dict[key] = 0\n",
    "            rt_dict[key] += 1\n",
    "    except:\n",
    "        pass\n",
    "df_pares = pd.DataFrame(ls_pares, columns=['users'])\n",
    "\n",
    "users_cant = df_pares.groupby('users').size().reset_index(name='counts')\n",
    "df_cant_pares = users_cant[users_cant['counts'] > 0]\n",
    "ls_users = []\n",
    "\n",
    "df_usuarios = df_cant_pares['users'].str.split(' ', expand=True).rename({0: 'user1', 1: 'user2'}, axis=1)\n",
    "df_usuarios.head()"
   ]
  },
  {
   "cell_type": "code",
   "execution_count": 52,
   "id": "99fc3481",
   "metadata": {},
   "outputs": [],
   "source": [
    "df_usuarios = df_usuarios[['user1', 'user2']]"
   ]
  },
  {
   "cell_type": "code",
   "execution_count": 54,
   "id": "40be2d4b",
   "metadata": {
    "scrolled": false
   },
   "outputs": [
    {
     "data": {
      "text/plain": [
       "(6384297, 6384297)"
      ]
     },
     "execution_count": 54,
     "metadata": {},
     "output_type": "execute_result"
    }
   ],
   "source": [
    "u1 = df_usuarios.user1.to_list()\n",
    "u2 = df_usuarios.user2.to_list()\n",
    "u = list(set(u1 + u2))\n",
    "len(u)"
   ]
  },
  {
   "cell_type": "code",
   "execution_count": 58,
   "id": "023afa77",
   "metadata": {},
   "outputs": [],
   "source": [
    "df_user_filter = df_date_filter[df_date_filter.screen_name.isin(u)]"
   ]
  },
  {
   "cell_type": "code",
   "execution_count": 60,
   "id": "6f3d5119",
   "metadata": {},
   "outputs": [],
   "source": [
    "df_user_filter.to_csv('tweets_tesis.csv', index=False)"
   ]
  },
  {
   "cell_type": "markdown",
   "id": "fdf0b0d5",
   "metadata": {},
   "source": [
    "## Rest"
   ]
  },
  {
   "cell_type": "code",
   "execution_count": 62,
   "id": "a7149de9",
   "metadata": {},
   "outputs": [],
   "source": [
    "df = df_user_filter"
   ]
  },
  {
   "cell_type": "code",
   "execution_count": 61,
   "id": "1640dcbd",
   "metadata": {},
   "outputs": [],
   "source": [
    "def hashtags(dataset):\n",
    "    hash_dic = {}\n",
    "    for _, row in dataset.iterrows():\n",
    "        text = row.text\n",
    "        words = text.split(' ')\n",
    "        ls_hashtags = []\n",
    "        for w in words:\n",
    "            try:\n",
    "                if w[0] == '#':\n",
    "                    ls_hashtags.append(w)\n",
    "            except:\n",
    "                pass\n",
    "        for h in ls_hashtags:\n",
    "            if h not in hash_dic:\n",
    "                hash_dic[h] = 0\n",
    "            hash_dic[h] += 1\n",
    "    return hash_dic\n",
    "\n",
    "def order_dic(dic_hashtags):\n",
    "    for k in sorted(dic_hashtags, key=dic_hashtags.get, reverse=True):\n",
    "        print(k, dic_hashtags[k])"
   ]
  },
  {
   "cell_type": "markdown",
   "id": "dfefc40b",
   "metadata": {},
   "source": [
    "### Maria Elisa Quinteros Presidencia (5 de Enero 2022)"
   ]
  },
  {
   "cell_type": "code",
   "execution_count": 118,
   "id": "1ef161bb",
   "metadata": {},
   "outputs": [],
   "source": [
    "meq = df[(df.created_at > '2022-01-05') & (df.created_at < '2022-01-12')]"
   ]
  },
  {
   "cell_type": "code",
   "execution_count": 119,
   "id": "289bf996",
   "metadata": {
    "scrolled": true
   },
   "outputs": [],
   "source": [
    "meq = meq[meq.text.str.contains(\"Maria Elisa Quinteros|María Elisa Quinteros|MEQ\")]"
   ]
  },
  {
   "cell_type": "code",
   "execution_count": 120,
   "id": "855a9ceb",
   "metadata": {},
   "outputs": [
    {
     "data": {
      "text/plain": [
       "39482"
      ]
     },
     "execution_count": 120,
     "metadata": {},
     "output_type": "execute_result"
    }
   ],
   "source": [
    "len(meq)"
   ]
  },
  {
   "cell_type": "code",
   "execution_count": 121,
   "id": "2a0ee4d3",
   "metadata": {},
   "outputs": [],
   "source": [
    "meq.to_csv('Noticias/MEQ_tweets.csv', index=False)"
   ]
  },
  {
   "cell_type": "markdown",
   "id": "c78609ad",
   "metadata": {},
   "source": [
    "### Borrador (Junio 2022)"
   ]
  },
  {
   "cell_type": "code",
   "execution_count": 123,
   "id": "a4a692ce",
   "metadata": {},
   "outputs": [],
   "source": [
    "borrado = df[(df.created_at > '2022-06-27') & (df.created_at < '2022-07-10')]"
   ]
  },
  {
   "cell_type": "code",
   "execution_count": 124,
   "id": "ba744ecf",
   "metadata": {},
   "outputs": [],
   "source": [
    "borrado = borrado[borrado.text.str.contains(\"borrador|Borrador\")]"
   ]
  },
  {
   "cell_type": "code",
   "execution_count": 125,
   "id": "ea292b00",
   "metadata": {},
   "outputs": [
    {
     "data": {
      "text/plain": [
       "9504"
      ]
     },
     "execution_count": 125,
     "metadata": {},
     "output_type": "execute_result"
    }
   ],
   "source": [
    "len(borrado)"
   ]
  },
  {
   "cell_type": "code",
   "execution_count": 126,
   "id": "3f06c8b1",
   "metadata": {},
   "outputs": [],
   "source": [
    "borrado.to_csv('Noticias/Borrador_tweets.csv', index=False)"
   ]
  },
  {
   "cell_type": "markdown",
   "id": "4590c615",
   "metadata": {},
   "source": [
    "### Fin del Senado (Mayo 2022)"
   ]
  },
  {
   "cell_type": "code",
   "execution_count": 127,
   "id": "38f5ed95",
   "metadata": {},
   "outputs": [],
   "source": [
    "senado = df[(df.created_at > '2022-04-12') & (df.created_at < '2022-04-20')]"
   ]
  },
  {
   "cell_type": "code",
   "execution_count": 128,
   "id": "10c48586",
   "metadata": {},
   "outputs": [],
   "source": [
    "senado = senado[senado.text.str.contains(\"Senado|senado\")]"
   ]
  },
  {
   "cell_type": "code",
   "execution_count": 129,
   "id": "35f7510e",
   "metadata": {},
   "outputs": [
    {
     "data": {
      "text/plain": [
       "14604"
      ]
     },
     "execution_count": 129,
     "metadata": {},
     "output_type": "execute_result"
    }
   ],
   "source": [
    "len(senado)"
   ]
  },
  {
   "cell_type": "code",
   "execution_count": 130,
   "id": "9f22dbf1",
   "metadata": {},
   "outputs": [],
   "source": [
    "senado.to_csv('Noticias/Senado_tweets.csv', index=False)"
   ]
  },
  {
   "cell_type": "markdown",
   "id": "95d58cd8",
   "metadata": {},
   "source": [
    "### Embarazo (Marzo 2022)"
   ]
  },
  {
   "cell_type": "code",
   "execution_count": 131,
   "id": "2d6edbb5",
   "metadata": {},
   "outputs": [],
   "source": [
    "embarazo = df[(df.created_at > '2022-03-14') & (df.created_at < '2022-03-23')]"
   ]
  },
  {
   "cell_type": "code",
   "execution_count": 132,
   "id": "eb9ced81",
   "metadata": {},
   "outputs": [],
   "source": [
    "embarazo = embarazo[embarazo.text.str.contains(\"Aborto|aborto|interrupción voluntaria|interrupcion voluntaria|embarazo\")]"
   ]
  },
  {
   "cell_type": "code",
   "execution_count": 133,
   "id": "2897574a",
   "metadata": {
    "scrolled": false
   },
   "outputs": [
    {
     "data": {
      "text/plain": [
       "8051"
      ]
     },
     "execution_count": 133,
     "metadata": {},
     "output_type": "execute_result"
    }
   ],
   "source": [
    "len(embarazo)"
   ]
  },
  {
   "cell_type": "code",
   "execution_count": 134,
   "id": "5805c999",
   "metadata": {},
   "outputs": [],
   "source": [
    "embarazo.to_csv('Noticias/Embarazo_tweets.csv', index=False)"
   ]
  },
  {
   "cell_type": "code",
   "execution_count": null,
   "id": "186b7349",
   "metadata": {},
   "outputs": [],
   "source": [
    "%%time\n",
    "# Esto crea un dataframe basado en los retweet de la forma usuario1 retweetea a usuario2\n",
    "df_rt = meq[meq['text'].str.contains(\"RT @\")]\n",
    "rt_dict = {}\n",
    "ls_pares = []\n",
    "for _, row in df_rt.iterrows():\n",
    "    txt = row['text'].split(':')[0]\n",
    "    rt_user = txt.split('@')[-1]\n",
    "    try:\n",
    "        pair = sorted([row.screen_name, rt_user])\n",
    "        if pair[0] != pair[1]:\n",
    "            pair[0] = str(pair[0])\n",
    "            pair[1] = str(pair[1])\n",
    "            key = ' '.join(pair)\n",
    "            ls_pares.append(pair[0] + \" \" + pair[1])\n",
    "            if key not in rt_dict:\n",
    "                rt_dict[key] = 0\n",
    "            rt_dict[key] += 1\n",
    "    except:\n",
    "        pass\n",
    "df_pares = pd.DataFrame(ls_pares, columns=['users'])\n",
    "\n",
    "users_cant = df_pares.groupby('users').size().reset_index(name='counts')\n",
    "df_cant_pares = users_cant[users_cant['counts'] > 0]\n",
    "ls_users = []\n",
    "\n",
    "df_usuarios = df_cant_pares['users'].str.split(' ', expand=True).rename({0: 'user1', 1: 'user2'}, axis=1)\n",
    "df_usuarios"
   ]
  }
 ],
 "metadata": {
  "kernelspec": {
   "display_name": "Python 3 (ipykernel)",
   "language": "python",
   "name": "python3"
  },
  "language_info": {
   "codemirror_mode": {
    "name": "ipython",
    "version": 3
   },
   "file_extension": ".py",
   "mimetype": "text/x-python",
   "name": "python",
   "nbconvert_exporter": "python",
   "pygments_lexer": "ipython3",
   "version": "3.9.7"
  }
 },
 "nbformat": 4,
 "nbformat_minor": 5
}
