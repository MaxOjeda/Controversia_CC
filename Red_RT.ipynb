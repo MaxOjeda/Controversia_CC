{
 "cells": [
  {
   "cell_type": "code",
   "execution_count": 2,
   "id": "d00514f0",
   "metadata": {},
   "outputs": [],
   "source": [
    "import matplotlib.pyplot as plt\n",
    "import networkx as nx\n",
    "from matplotlib.pyplot import figure\n",
    "import pandas as pd"
   ]
  },
  {
   "cell_type": "code",
   "execution_count": 3,
   "id": "c56a64f3",
   "metadata": {
    "scrolled": true
   },
   "outputs": [
    {
     "data": {
      "text/html": [
       "<div>\n",
       "<style scoped>\n",
       "    .dataframe tbody tr th:only-of-type {\n",
       "        vertical-align: middle;\n",
       "    }\n",
       "\n",
       "    .dataframe tbody tr th {\n",
       "        vertical-align: top;\n",
       "    }\n",
       "\n",
       "    .dataframe thead th {\n",
       "        text-align: right;\n",
       "    }\n",
       "</style>\n",
       "<table border=\"1\" class=\"dataframe\">\n",
       "  <thead>\n",
       "    <tr style=\"text-align: right;\">\n",
       "      <th></th>\n",
       "      <th>created_at</th>\n",
       "      <th>id</th>\n",
       "      <th>user_id</th>\n",
       "      <th>screen_name</th>\n",
       "      <th>followers_count</th>\n",
       "      <th>friend_count</th>\n",
       "      <th>in_reply_to_user_id</th>\n",
       "      <th>in_reply_to_screen_name</th>\n",
       "      <th>text</th>\n",
       "      <th>time</th>\n",
       "    </tr>\n",
       "  </thead>\n",
       "  <tbody>\n",
       "    <tr>\n",
       "      <th>0</th>\n",
       "      <td>2022-01-05 23:07:59+00:00</td>\n",
       "      <td>1.478866e+18</td>\n",
       "      <td>1.437082e+09</td>\n",
       "      <td>SilvanaGonz0paz</td>\n",
       "      <td>149.0</td>\n",
       "      <td>149.0</td>\n",
       "      <td>NaN</td>\n",
       "      <td>NaN</td>\n",
       "      <td>RT @crisbravocastro: Felices estamos los Mauli...</td>\n",
       "      <td>2022-01-05 23:07:59+00:00</td>\n",
       "    </tr>\n",
       "    <tr>\n",
       "      <th>1</th>\n",
       "      <td>2022-01-06 13:02:22+00:00</td>\n",
       "      <td>1.479076e+18</td>\n",
       "      <td>8.057368e+08</td>\n",
       "      <td>eligop</td>\n",
       "      <td>1735.0</td>\n",
       "      <td>2322.0</td>\n",
       "      <td>NaN</td>\n",
       "      <td>NaN</td>\n",
       "      <td>RT @candanga_angela: 🔴Noticia🔴📰:\\n\\nMaría Elis...</td>\n",
       "      <td>2022-01-06 13:02:22+00:00</td>\n",
       "    </tr>\n",
       "    <tr>\n",
       "      <th>2</th>\n",
       "      <td>2022-01-05 21:16:18+00:00</td>\n",
       "      <td>1.478838e+18</td>\n",
       "      <td>4.056768e+09</td>\n",
       "      <td>kensselrojas</td>\n",
       "      <td>3808.0</td>\n",
       "      <td>4186.0</td>\n",
       "      <td>NaN</td>\n",
       "      <td>NaN</td>\n",
       "      <td>RT @DiaguitaConsti1: Felicitar María Elisa Qui...</td>\n",
       "      <td>2022-01-05 21:16:18+00:00</td>\n",
       "    </tr>\n",
       "  </tbody>\n",
       "</table>\n",
       "</div>"
      ],
      "text/plain": [
       "                  created_at            id       user_id      screen_name  \\\n",
       "0  2022-01-05 23:07:59+00:00  1.478866e+18  1.437082e+09  SilvanaGonz0paz   \n",
       "1  2022-01-06 13:02:22+00:00  1.479076e+18  8.057368e+08           eligop   \n",
       "2  2022-01-05 21:16:18+00:00  1.478838e+18  4.056768e+09     kensselrojas   \n",
       "\n",
       "   followers_count  friend_count  in_reply_to_user_id in_reply_to_screen_name  \\\n",
       "0            149.0         149.0                  NaN                     NaN   \n",
       "1           1735.0        2322.0                  NaN                     NaN   \n",
       "2           3808.0        4186.0                  NaN                     NaN   \n",
       "\n",
       "                                                text  \\\n",
       "0  RT @crisbravocastro: Felices estamos los Mauli...   \n",
       "1  RT @candanga_angela: 🔴Noticia🔴📰:\\n\\nMaría Elis...   \n",
       "2  RT @DiaguitaConsti1: Felicitar María Elisa Qui...   \n",
       "\n",
       "                        time  \n",
       "0  2022-01-05 23:07:59+00:00  \n",
       "1  2022-01-06 13:02:22+00:00  \n",
       "2  2022-01-05 21:16:18+00:00  "
      ]
     },
     "execution_count": 3,
     "metadata": {},
     "output_type": "execute_result"
    }
   ],
   "source": [
    "meq = pd.read_csv('Noticias/MEQ_tweets.csv')\n",
    "meq.head(3)"
   ]
  },
  {
   "cell_type": "code",
   "execution_count": 4,
   "id": "c5dd004b",
   "metadata": {},
   "outputs": [
    {
     "data": {
      "text/plain": [
       "'RT @crisbravocastro: Felices estamos los Maulin@s!! Felicitaciones a la Dra María Elisa Quinteros, mujer joven talquina!! Electa presidenta…'"
      ]
     },
     "execution_count": 4,
     "metadata": {},
     "output_type": "execute_result"
    }
   ],
   "source": [
    "meq.iloc[0].text"
   ]
  },
  {
   "cell_type": "code",
   "execution_count": 5,
   "id": "6291513f",
   "metadata": {
    "scrolled": true
   },
   "outputs": [
    {
     "name": "stdout",
     "output_type": "stream",
     "text": [
      "Wall time: 1.78 s\n"
     ]
    },
    {
     "data": {
      "text/html": [
       "<div>\n",
       "<style scoped>\n",
       "    .dataframe tbody tr th:only-of-type {\n",
       "        vertical-align: middle;\n",
       "    }\n",
       "\n",
       "    .dataframe tbody tr th {\n",
       "        vertical-align: top;\n",
       "    }\n",
       "\n",
       "    .dataframe thead th {\n",
       "        text-align: right;\n",
       "    }\n",
       "</style>\n",
       "<table border=\"1\" class=\"dataframe\">\n",
       "  <thead>\n",
       "    <tr style=\"text-align: right;\">\n",
       "      <th></th>\n",
       "      <th>user1</th>\n",
       "      <th>user2</th>\n",
       "    </tr>\n",
       "  </thead>\n",
       "  <tbody>\n",
       "    <tr>\n",
       "      <th>0</th>\n",
       "      <td>001ODEJA_VU0101</td>\n",
       "      <td>mcubillossigall</td>\n",
       "    </tr>\n",
       "    <tr>\n",
       "      <th>1</th>\n",
       "      <td>0324Marta</td>\n",
       "      <td>TERE_LAprofe73</td>\n",
       "    </tr>\n",
       "    <tr>\n",
       "      <th>2</th>\n",
       "      <td>0324Marta</td>\n",
       "      <td>luisadgallardo</td>\n",
       "    </tr>\n",
       "    <tr>\n",
       "      <th>3</th>\n",
       "      <td>0324Marta</td>\n",
       "      <td>paulacabezas56</td>\n",
       "    </tr>\n",
       "    <tr>\n",
       "      <th>4</th>\n",
       "      <td>08_sweetheart_</td>\n",
       "      <td>cdentistaschile</td>\n",
       "    </tr>\n",
       "    <tr>\n",
       "      <th>...</th>\n",
       "      <td>...</td>\n",
       "      <td>...</td>\n",
       "    </tr>\n",
       "    <tr>\n",
       "      <th>28682</th>\n",
       "      <td>valenzuelalevi</td>\n",
       "      <td>vonAlfward</td>\n",
       "    </tr>\n",
       "    <tr>\n",
       "      <th>28683</th>\n",
       "      <td>valenzuelalevi</td>\n",
       "      <td>wladi9</td>\n",
       "    </tr>\n",
       "    <tr>\n",
       "      <th>28684</th>\n",
       "      <td>valenzuelalevi</td>\n",
       "      <td>xBorisEsteban</td>\n",
       "    </tr>\n",
       "    <tr>\n",
       "      <th>28685</th>\n",
       "      <td>valenzuelalevi</td>\n",
       "      <td>yoopino_dtodo</td>\n",
       "    </tr>\n",
       "    <tr>\n",
       "      <th>28686</th>\n",
       "      <td>valenzuelalevi</td>\n",
       "      <td>yungay64</td>\n",
       "    </tr>\n",
       "  </tbody>\n",
       "</table>\n",
       "<p>28687 rows × 2 columns</p>\n",
       "</div>"
      ],
      "text/plain": [
       "                 user1            user2\n",
       "0      001ODEJA_VU0101  mcubillossigall\n",
       "1            0324Marta   TERE_LAprofe73\n",
       "2            0324Marta   luisadgallardo\n",
       "3            0324Marta   paulacabezas56\n",
       "4       08_sweetheart_  cdentistaschile\n",
       "...                ...              ...\n",
       "28682   valenzuelalevi       vonAlfward\n",
       "28683   valenzuelalevi           wladi9\n",
       "28684   valenzuelalevi    xBorisEsteban\n",
       "28685   valenzuelalevi    yoopino_dtodo\n",
       "28686   valenzuelalevi         yungay64\n",
       "\n",
       "[28687 rows x 2 columns]"
      ]
     },
     "execution_count": 5,
     "metadata": {},
     "output_type": "execute_result"
    }
   ],
   "source": [
    "%%time\n",
    "# Esto crea un dataframe basado en los retweet de la forma usuario1 retweetea a usuario2\n",
    "df_rt = meq[meq['text'].str.contains(\"RT @\")]\n",
    "rt_dict = {}\n",
    "ls_pares = []\n",
    "for _, row in df_rt.iterrows():\n",
    "    txt = row['text'].split(':')[0]\n",
    "    rt_user = txt.split('@')[-1]\n",
    "    try:\n",
    "        pair = sorted([row.screen_name, rt_user])\n",
    "        if pair[0] != pair[1]:\n",
    "            pair[0] = str(pair[0])\n",
    "            pair[1] = str(pair[1])\n",
    "            key = ' '.join(pair)\n",
    "            ls_pares.append(pair[0] + \" \" + pair[1])\n",
    "            if key not in rt_dict:\n",
    "                rt_dict[key] = 0\n",
    "            rt_dict[key] += 1\n",
    "    except:\n",
    "        pass\n",
    "df_pares = pd.DataFrame(ls_pares, columns=['users'])\n",
    "\n",
    "users_cant = df_pares.groupby('users').size().reset_index(name='counts')\n",
    "df_cant_pares = users_cant[users_cant['counts'] > 0]\n",
    "ls_users = []\n",
    "\n",
    "df_usuarios = df_cant_pares['users'].str.split(' ', expand=True).rename({0: 'user1', 1: 'user2'}, axis=1)\n",
    "df_usuarios"
   ]
  },
  {
   "cell_type": "code",
   "execution_count": 6,
   "id": "d6f612e1",
   "metadata": {},
   "outputs": [],
   "source": [
    "df_usuarios.to_csv('Edges/MEQ_usuarios_edges.csv', index=False)"
   ]
  },
  {
   "cell_type": "code",
   "execution_count": 7,
   "id": "1cf274b3",
   "metadata": {},
   "outputs": [
    {
     "data": {
      "text/plain": [
       "13127"
      ]
     },
     "execution_count": 7,
     "metadata": {},
     "output_type": "execute_result"
    }
   ],
   "source": [
    "len(set(df_usuarios.user1.to_list() + df_usuarios.user2.to_list()))"
   ]
  },
  {
   "cell_type": "code",
   "execution_count": 8,
   "id": "9ef79abf",
   "metadata": {},
   "outputs": [],
   "source": [
    "usuarios = list(set(df_usuarios.user1.to_list() + df_usuarios.user2.to_list()))"
   ]
  },
  {
   "cell_type": "code",
   "execution_count": 9,
   "id": "fedc5935",
   "metadata": {},
   "outputs": [],
   "source": [
    "G = nx.from_pandas_edgelist(df_usuarios, 'user1', 'user2', create_using=nx.Graph())\n",
    "G.add_nodes_from(usuarios)"
   ]
  },
  {
   "cell_type": "code",
   "execution_count": 10,
   "id": "70550ecf",
   "metadata": {
    "scrolled": true
   },
   "outputs": [
    {
     "data": {
      "text/plain": [
       "13127"
      ]
     },
     "execution_count": 10,
     "metadata": {},
     "output_type": "execute_result"
    }
   ],
   "source": [
    "len(G.nodes)"
   ]
  },
  {
   "cell_type": "code",
   "execution_count": 11,
   "id": "82052b48",
   "metadata": {},
   "outputs": [],
   "source": [
    "nodos_eliminar = []\n",
    "for node in G.nodes:\n",
    "    if len(list(nx.all_neighbors(G, node))) < 10:\n",
    "        nodos_eliminar.append(node)\n",
    "for n in nodos_eliminar:\n",
    "    G.remove_node(n)"
   ]
  },
  {
   "cell_type": "code",
   "execution_count": 12,
   "id": "2c58ef7a",
   "metadata": {},
   "outputs": [],
   "source": [
    "nodes_ls = []\n",
    "for component in list(nx.connected_components(G)):\n",
    "    if len(component) < 40:\n",
    "        for node in component:\n",
    "            nodes_ls.append(node)\n",
    "            G.remove_node(node)"
   ]
  },
  {
   "cell_type": "code",
   "execution_count": 13,
   "id": "a46fcd00",
   "metadata": {},
   "outputs": [
    {
     "data": {
      "text/plain": [
       "727"
      ]
     },
     "execution_count": 13,
     "metadata": {},
     "output_type": "execute_result"
    }
   ],
   "source": [
    "len(G.nodes)"
   ]
  },
  {
   "cell_type": "code",
   "execution_count": 14,
   "id": "87a03ed5",
   "metadata": {},
   "outputs": [
    {
     "data": {
      "image/png": "[encoded data removed]",
      "text/plain": [
       "<Figure size 432x288 with 1 Axes>"
      ]
     },
     "metadata": {},
     "output_type": "display_data"
    }
   ],
   "source": [
    "nx.draw(G, with_labels=False, node_size = 20)"
   ]
  },
  {
   "cell_type": "code",
   "execution_count": null,
   "id": "7ceafd5f",
   "metadata": {},
   "outputs": [],
   "source": []
  }
 ],
 "metadata": {
  "kernelspec": {
   "display_name": "Python 3 (ipykernel)",
   "language": "python",
   "name": "python3"
  },
  "language_info": {
   "codemirror_mode": {
    "name": "ipython",
    "version": 3
   },
   "file_extension": ".py",
   "mimetype": "text/x-python",
   "name": "python",
   "nbconvert_exporter": "python",
   "pygments_lexer": "ipython3",
   "version": "3.9.12"
  }
 },
 "nbformat": 4,
 "nbformat_minor": 5
}
