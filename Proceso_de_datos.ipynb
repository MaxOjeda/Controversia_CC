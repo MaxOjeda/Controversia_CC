{
 "cells": [
  {
   "cell_type": "markdown",
   "id": "92aab1bc-aa8d-480f-b7a0-8cf597c72f2d",
   "metadata": {},
   "source": [
    "### Info\n",
    "Este código filtra los tweets originales (raw) para dejar solo los que se van a ocupar.\n",
    "Se junta los tweets unificados con los puntos ideales\n",
    "Se crean los archivos necesarios para DANE"
   ]
  },
  {
   "cell_type": "code",
   "execution_count": 1,
   "id": "8087ae0b",
   "metadata": {},
   "outputs": [],
   "source": [
    "import pandas as pd\n",
    "from datetime import datetime\n",
    "import matplotlib.pyplot as plt"
   ]
  },
  {
   "cell_type": "code",
   "execution_count": 2,
   "id": "2def1d1c",
   "metadata": {
    "scrolled": true
   },
   "outputs": [
    {
     "name": "stderr",
     "output_type": "stream",
     "text": [
      "C:\\Users\\Zephyrus\\AppData\\Local\\Temp\\ipykernel_36760\\2810537981.py:1: DtypeWarning: Columns (0,1,4,8,9) have mixed types. Specify dtype option on import or set low_memory=False.\n",
      "  df = pd.read_csv('Datasets_Tweets/tesis_data_raw.csv')\n",
      "C:\\Users\\Zephyrus\\AppData\\Local\\Temp\\ipykernel_36760\\2810537981.py:2: DtypeWarning: Columns (0,8) have mixed types. Specify dtype option on import or set low_memory=False.\n",
      "  df2 = pd.read_csv('Datasets_Tweets/tesis_data_raw_second.csv')\n"
     ]
    }
   ],
   "source": [
    "df = pd.read_csv('Datasets_Tweets/tesis_data_raw.csv')\n",
    "df2 = pd.read_csv('Datasets_Tweets/tesis_data_raw_second.csv')\n",
    "del df['Unnamed: 0']\n",
    "del df2['Unnamed: 0']"
   ]
  },
  {
   "cell_type": "code",
   "execution_count": 3,
   "id": "e6fb06f3",
   "metadata": {
    "scrolled": true
   },
   "outputs": [
    {
     "data": {
      "text/plain": [
       "15982806"
      ]
     },
     "execution_count": 3,
     "metadata": {},
     "output_type": "execute_result"
    }
   ],
   "source": [
    "df = pd.concat([df, df2], axis=0)\n",
    "len(df)"
   ]
  },
  {
   "cell_type": "markdown",
   "id": "7f9c898b",
   "metadata": {
    "tags": []
   },
   "source": [
    "## Preprocesamiento de datos"
   ]
  },
  {
   "cell_type": "code",
   "execution_count": 4,
   "id": "ae5c85fd",
   "metadata": {},
   "outputs": [
    {
     "name": "stdout",
     "output_type": "stream",
     "text": [
      "2018-10-10 20:19:24+00:00 2022-07-14 00:00:00+00:00\n"
     ]
    }
   ],
   "source": [
    "df = df[df['created_at'].notna()]\n",
    "df = df[df.text.notna()]\n",
    "print(df.created_at.min(), df.created_at.max())"
   ]
  },
  {
   "cell_type": "code",
   "execution_count": 5,
   "id": "3daa2e59",
   "metadata": {},
   "outputs": [],
   "source": [
    "df['time'] = pd.to_datetime(df['created_at'])"
   ]
  },
  {
   "cell_type": "markdown",
   "id": "604ba210-f0f5-40e1-a69a-37e64a1a3304",
   "metadata": {},
   "source": [
    "Eliminar tweets duplicados y los que no tienen fecha"
   ]
  },
  {
   "cell_type": "code",
   "execution_count": 6,
   "id": "ab12961e",
   "metadata": {},
   "outputs": [],
   "source": [
    "df = df.drop_duplicates(subset=['id'])\n",
    "df = df[df['time'].notna()]"
   ]
  },
  {
   "cell_type": "code",
   "execution_count": 8,
   "id": "8d8972a6",
   "metadata": {},
   "outputs": [
    {
     "data": {
      "text/plain": [
       "14403362"
      ]
     },
     "execution_count": 8,
     "metadata": {},
     "output_type": "execute_result"
    }
   ],
   "source": [
    "len(df)"
   ]
  },
  {
   "cell_type": "markdown",
   "id": "55d04aec-78b1-4f2e-8b24-d290a74457e7",
   "metadata": {},
   "source": [
    "Filtrar tweets por fechas. Se dejan fuera los que están antes del 03/08 porque hubo problemas en la recolección de tweets"
   ]
  },
  {
   "cell_type": "code",
   "execution_count": 10,
   "id": "c50f04c8",
   "metadata": {},
   "outputs": [
    {
     "data": {
      "text/plain": [
       "11729813"
      ]
     },
     "execution_count": 10,
     "metadata": {},
     "output_type": "execute_result"
    }
   ],
   "source": [
    "df_date_filter = df[(df.time > '2021-08-15') & (df.time < '2022-02-01')]\n",
    "df_date_filter2 = df[df.time > '2022-03-08']\n",
    "df_date = pd.concat([df_date_filter, df_date_filter2], axis=0)\n",
    "len(df_date)"
   ]
  },
  {
   "cell_type": "code",
   "execution_count": 11,
   "id": "d6ae88b5",
   "metadata": {},
   "outputs": [
    {
     "data": {
      "image/png": "[encoded data removed]",
      "text/plain": [
       "<Figure size 1440x288 with 1 Axes>"
      ]
     },
     "metadata": {
      "needs_background": "light"
     },
     "output_type": "display_data"
    },
    {
     "name": "stdout",
     "output_type": "stream",
     "text": [
      "CPU times: total: 2min 35s\n",
      "Wall time: 2min 42s\n"
     ]
    }
   ],
   "source": [
    "%%time\n",
    "plt.figure(figsize=(20, 4))\n",
    "plt.hist(df_date['time'], bins = 40)\n",
    "plt.show()"
   ]
  },
  {
   "cell_type": "code",
   "execution_count": 12,
   "id": "3a86bee0-c443-49ed-bc51-b15ec620d19a",
   "metadata": {},
   "outputs": [],
   "source": [
    "df_date.to_csv('Datasets_Tweets/tesis_data_clean.csv', index=False)"
   ]
  },
  {
   "cell_type": "markdown",
   "id": "c222a8a4-2ace-4e33-a846-e6a3b5c85bcf",
   "metadata": {},
   "source": [
    "### Juntar con TBIP"
   ]
  },
  {
   "cell_type": "code",
   "execution_count": 13,
   "id": "ea274ce1-f1e7-4899-a5de-f2365ae37c87",
   "metadata": {},
   "outputs": [
    {
     "name": "stderr",
     "output_type": "stream",
     "text": [
      "C:\\Users\\Zephyrus\\AppData\\Local\\Temp\\ipykernel_36760\\1239815842.py:1: DtypeWarning: Columns (7) have mixed types. Specify dtype option on import or set low_memory=False.\n",
      "  data = pd.read_csv('Datasets_Tweets/tesis_data_clean.csv')\n"
     ]
    }
   ],
   "source": [
    "data = pd.read_csv('Datasets_Tweets/tesis_data_clean.csv')\n",
    "tbip_data = pd.read_csv('Datasets_Tweets/ideal_point_tweets_tesis.csv')"
   ]
  },
  {
   "cell_type": "code",
   "execution_count": 14,
   "id": "e5763dd6-988c-4602-ae12-f8fba587104b",
   "metadata": {},
   "outputs": [],
   "source": [
    "data_with_tbip = data.merge(tbip_data, left_on='user_id', right_on='author', how='left')\n",
    "del data_with_tbip['sd']\n",
    "del data_with_tbip['author']\n",
    "data_with_tbip.to_csv('Datasets_Tweets/tweets_cc.csv', index=False)"
   ]
  },
  {
   "cell_type": "code",
   "execution_count": 15,
   "id": "1cb0b4b5-cdf1-4372-93d4-8e2494db0c20",
   "metadata": {},
   "outputs": [
    {
     "name": "stdout",
     "output_type": "stream",
     "text": [
      "Cantidad tweets antes del merge con tbip: 11729813\n",
      "Cantidad tweets después del merge con tbip: 11729813\n"
     ]
    }
   ],
   "source": [
    "print(\"Cantidad tweets antes del merge con tbip:\", len(data))\n",
    "print(\"Cantidad tweets después del merge con tbip:\", len(data_with_tbip))"
   ]
  },
  {
   "cell_type": "code",
   "execution_count": 16,
   "id": "3230cf8e-de4c-4fbe-bd5e-6f8b1a088db2",
   "metadata": {},
   "outputs": [
    {
     "name": "stdout",
     "output_type": "stream",
     "text": [
      "Cantidad usuarios únicos en data: 468898\n",
      "Cantidad usuarios únicos en TBIP: 192872\n"
     ]
    }
   ],
   "source": [
    "print(\"Cantidad usuarios únicos en data:\", len(list(data.user_id.unique())))\n",
    "print(\"Cantidad usuarios únicos en TBIP:\", len(tbip_data))"
   ]
  },
  {
   "cell_type": "code",
   "execution_count": 17,
   "id": "c3e5b4a3-a6c5-4d36-af9d-6ab5019b2bae",
   "metadata": {},
   "outputs": [
    {
     "name": "stdout",
     "output_type": "stream",
     "text": [
      "Hay 9501024 tweets asociados a un punto ideal de un total de 11729813: 81.00%\n"
     ]
    }
   ],
   "source": [
    "tw_ideal_point = len(data_with_tbip[~data_with_tbip.ideal_point.isnull()])\n",
    "total = len(data_with_tbip)\n",
    "print(\"Hay {} tweets asociados a un punto ideal de un total de {}: {perc:.2f}%\".format(tw_ideal_point, total, perc=tw_ideal_point/total*100 ))"
   ]
  },
  {
   "cell_type": "markdown",
   "id": "2d2c026e",
   "metadata": {
    "tags": []
   },
   "source": [
    "## Separar noticias"
   ]
  },
  {
   "cell_type": "code",
   "execution_count": 19,
   "id": "660ca5ec-a06a-4916-8aae-81f7b4a3d0ce",
   "metadata": {},
   "outputs": [
    {
     "name": "stderr",
     "output_type": "stream",
     "text": [
      "C:\\Users\\Zephyrus\\AppData\\Local\\Temp\\ipykernel_36760\\938299218.py:1: DtypeWarning: Columns (7) have mixed types. Specify dtype option on import or set low_memory=False.\n",
      "  data = pd.read_csv('Datasets_Tweets/tweets_cc.csv')\n"
     ]
    }
   ],
   "source": [
    "data = pd.read_csv('Datasets_Tweets/tweets_cc.csv')"
   ]
  },
  {
   "cell_type": "code",
   "execution_count": 20,
   "id": "3e4b7fda",
   "metadata": {
    "scrolled": true
   },
   "outputs": [
    {
     "name": "stdout",
     "output_type": "stream",
     "text": [
      "CPU times: total: 7min 38s\n",
      "Wall time: 8min 6s\n"
     ]
    },
    {
     "data": {
      "text/html": [
       "<div>\n",
       "<style scoped>\n",
       "    .dataframe tbody tr th:only-of-type {\n",
       "        vertical-align: middle;\n",
       "    }\n",
       "\n",
       "    .dataframe tbody tr th {\n",
       "        vertical-align: top;\n",
       "    }\n",
       "\n",
       "    .dataframe thead th {\n",
       "        text-align: right;\n",
       "    }\n",
       "</style>\n",
       "<table border=\"1\" class=\"dataframe\">\n",
       "  <thead>\n",
       "    <tr style=\"text-align: right;\">\n",
       "      <th></th>\n",
       "      <th>user1</th>\n",
       "      <th>user2</th>\n",
       "      <th>2</th>\n",
       "      <th>3</th>\n",
       "      <th>4</th>\n",
       "      <th>5</th>\n",
       "      <th>6</th>\n",
       "      <th>7</th>\n",
       "      <th>8</th>\n",
       "      <th>9</th>\n",
       "      <th>...</th>\n",
       "      <th>23</th>\n",
       "      <th>24</th>\n",
       "      <th>25</th>\n",
       "      <th>26</th>\n",
       "      <th>27</th>\n",
       "      <th>28</th>\n",
       "      <th>29</th>\n",
       "      <th>30</th>\n",
       "      <th>31</th>\n",
       "      <th>32</th>\n",
       "    </tr>\n",
       "  </thead>\n",
       "  <tbody>\n",
       "    <tr>\n",
       "      <th>0</th>\n",
       "      <td>0000000000000JL</td>\n",
       "      <td>EmiliaNoyupi</td>\n",
       "      <td>None</td>\n",
       "      <td>None</td>\n",
       "      <td>None</td>\n",
       "      <td>None</td>\n",
       "      <td>None</td>\n",
       "      <td>None</td>\n",
       "      <td>None</td>\n",
       "      <td>None</td>\n",
       "      <td>...</td>\n",
       "      <td>None</td>\n",
       "      <td>None</td>\n",
       "      <td>None</td>\n",
       "      <td>None</td>\n",
       "      <td>None</td>\n",
       "      <td>None</td>\n",
       "      <td>None</td>\n",
       "      <td>None</td>\n",
       "      <td>None</td>\n",
       "      <td>None</td>\n",
       "    </tr>\n",
       "    <tr>\n",
       "      <th>1</th>\n",
       "      <td>0000000000000JL</td>\n",
       "      <td>Fontirroig11S</td>\n",
       "      <td>None</td>\n",
       "      <td>None</td>\n",
       "      <td>None</td>\n",
       "      <td>None</td>\n",
       "      <td>None</td>\n",
       "      <td>None</td>\n",
       "      <td>None</td>\n",
       "      <td>None</td>\n",
       "      <td>...</td>\n",
       "      <td>None</td>\n",
       "      <td>None</td>\n",
       "      <td>None</td>\n",
       "      <td>None</td>\n",
       "      <td>None</td>\n",
       "      <td>None</td>\n",
       "      <td>None</td>\n",
       "      <td>None</td>\n",
       "      <td>None</td>\n",
       "      <td>None</td>\n",
       "    </tr>\n",
       "    <tr>\n",
       "      <th>2</th>\n",
       "      <td>0000000000000JL</td>\n",
       "      <td>Jpinostro</td>\n",
       "      <td>None</td>\n",
       "      <td>None</td>\n",
       "      <td>None</td>\n",
       "      <td>None</td>\n",
       "      <td>None</td>\n",
       "      <td>None</td>\n",
       "      <td>None</td>\n",
       "      <td>None</td>\n",
       "      <td>...</td>\n",
       "      <td>None</td>\n",
       "      <td>None</td>\n",
       "      <td>None</td>\n",
       "      <td>None</td>\n",
       "      <td>None</td>\n",
       "      <td>None</td>\n",
       "      <td>None</td>\n",
       "      <td>None</td>\n",
       "      <td>None</td>\n",
       "      <td>None</td>\n",
       "    </tr>\n",
       "    <tr>\n",
       "      <th>3</th>\n",
       "      <td>0000000000000JL</td>\n",
       "      <td>ale_sepulveda_</td>\n",
       "      <td>None</td>\n",
       "      <td>None</td>\n",
       "      <td>None</td>\n",
       "      <td>None</td>\n",
       "      <td>None</td>\n",
       "      <td>None</td>\n",
       "      <td>None</td>\n",
       "      <td>None</td>\n",
       "      <td>...</td>\n",
       "      <td>None</td>\n",
       "      <td>None</td>\n",
       "      <td>None</td>\n",
       "      <td>None</td>\n",
       "      <td>None</td>\n",
       "      <td>None</td>\n",
       "      <td>None</td>\n",
       "      <td>None</td>\n",
       "      <td>None</td>\n",
       "      <td>None</td>\n",
       "    </tr>\n",
       "    <tr>\n",
       "      <th>4</th>\n",
       "      <td>00001009082AA</td>\n",
       "      <td>Hugo_Gutierrez_</td>\n",
       "      <td>None</td>\n",
       "      <td>None</td>\n",
       "      <td>None</td>\n",
       "      <td>None</td>\n",
       "      <td>None</td>\n",
       "      <td>None</td>\n",
       "      <td>None</td>\n",
       "      <td>None</td>\n",
       "      <td>...</td>\n",
       "      <td>None</td>\n",
       "      <td>None</td>\n",
       "      <td>None</td>\n",
       "      <td>None</td>\n",
       "      <td>None</td>\n",
       "      <td>None</td>\n",
       "      <td>None</td>\n",
       "      <td>None</td>\n",
       "      <td>None</td>\n",
       "      <td>None</td>\n",
       "    </tr>\n",
       "  </tbody>\n",
       "</table>\n",
       "<p>5 rows × 33 columns</p>\n",
       "</div>"
      ],
      "text/plain": [
       "             user1            user2     2     3     4     5     6     7     8  \\\n",
       "0  0000000000000JL     EmiliaNoyupi  None  None  None  None  None  None  None   \n",
       "1  0000000000000JL    Fontirroig11S  None  None  None  None  None  None  None   \n",
       "2  0000000000000JL        Jpinostro  None  None  None  None  None  None  None   \n",
       "3  0000000000000JL   ale_sepulveda_  None  None  None  None  None  None  None   \n",
       "4    00001009082AA  Hugo_Gutierrez_  None  None  None  None  None  None  None   \n",
       "\n",
       "      9  ...    23    24    25    26    27    28    29    30    31    32  \n",
       "0  None  ...  None  None  None  None  None  None  None  None  None  None  \n",
       "1  None  ...  None  None  None  None  None  None  None  None  None  None  \n",
       "2  None  ...  None  None  None  None  None  None  None  None  None  None  \n",
       "3  None  ...  None  None  None  None  None  None  None  None  None  None  \n",
       "4  None  ...  None  None  None  None  None  None  None  None  None  None  \n",
       "\n",
       "[5 rows x 33 columns]"
      ]
     },
     "execution_count": 20,
     "metadata": {},
     "output_type": "execute_result"
    }
   ],
   "source": [
    "%%time\n",
    "# Esto crea un dataframe basado en los retweet de la forma \"usuario1 retweetea a usuario2\"\n",
    "df_rt = data[data['text'].str.contains(\"RT @\")]\n",
    "rt_dict = {}\n",
    "ls_pares = []\n",
    "for _, row in df_rt.iterrows():\n",
    "    txt = row['text'].split(':')[0]\n",
    "    rt_user = txt.split('@')[-1]\n",
    "    try:\n",
    "        pair = sorted([row.screen_name, rt_user])\n",
    "        if pair[0] != pair[1]:\n",
    "            pair[0] = str(pair[0])\n",
    "            pair[1] = str(pair[1])\n",
    "            key = ' '.join(pair)\n",
    "            ls_pares.append(pair[0] + \" \" + pair[1])\n",
    "            if key not in rt_dict:\n",
    "                rt_dict[key] = 0\n",
    "            rt_dict[key] += 1\n",
    "    except:\n",
    "        pass\n",
    "df_pares = pd.DataFrame(ls_pares, columns=['users'])\n",
    "\n",
    "users_cant = df_pares.groupby('users').size().reset_index(name='counts')\n",
    "df_cant_pares = users_cant[users_cant['counts'] > 0]\n",
    "ls_users = []\n",
    "\n",
    "df_usuarios = df_cant_pares['users'].str.split(' ', expand=True).rename({0: 'user1', 1: 'user2'}, axis=1)\n",
    "df_usuarios.head()"
   ]
  },
  {
   "cell_type": "code",
   "execution_count": 21,
   "id": "99fc3481",
   "metadata": {},
   "outputs": [],
   "source": [
    "df_usuarios = df_usuarios[['user1', 'user2']]"
   ]
  },
  {
   "cell_type": "code",
   "execution_count": 22,
   "id": "40be2d4b",
   "metadata": {},
   "outputs": [
    {
     "name": "stdout",
     "output_type": "stream",
     "text": [
      "Cantidad de usuarios distintos dentro los pares de retweets: 365796\n"
     ]
    }
   ],
   "source": [
    "u1 = df_usuarios.user1.to_list()\n",
    "u2 = df_usuarios.user2.to_list()\n",
    "u = list(set(u1 + u2))\n",
    "print(\"Cantidad de usuarios distintos dentro los pares de retweets:\",len(u))"
   ]
  },
  {
   "cell_type": "code",
   "execution_count": 23,
   "id": "023afa77",
   "metadata": {},
   "outputs": [],
   "source": [
    "df_user_filter = data[data.screen_name.isin(u)]"
   ]
  },
  {
   "cell_type": "code",
   "execution_count": 25,
   "id": "6f3d5119",
   "metadata": {},
   "outputs": [],
   "source": [
    "df_user_filter.to_csv('Datasets_Tweets/tweets_users.csv', index=False)"
   ]
  },
  {
   "cell_type": "markdown",
   "id": "fdf0b0d5",
   "metadata": {
    "tags": []
   },
   "source": [
    "## Separar noticias"
   ]
  },
  {
   "cell_type": "code",
   "execution_count": 26,
   "id": "a7149de9",
   "metadata": {},
   "outputs": [
    {
     "name": "stderr",
     "output_type": "stream",
     "text": [
      "C:\\Users\\Zephyrus\\AppData\\Local\\Temp\\ipykernel_36760\\1617656365.py:1: DtypeWarning: Columns (7) have mixed types. Specify dtype option on import or set low_memory=False.\n",
      "  df = pd.read_csv('Datasets_Tweets/tweets_users.csv')\n"
     ]
    }
   ],
   "source": [
    "df = pd.read_csv('Datasets_Tweets/tweets_users.csv')"
   ]
  },
  {
   "cell_type": "code",
   "execution_count": 27,
   "id": "1640dcbd",
   "metadata": {},
   "outputs": [],
   "source": [
    "def hashtags(dataset):\n",
    "    hash_dic = {}\n",
    "    for _, row in dataset.iterrows():\n",
    "        text = row.text\n",
    "        words = text.split(' ')\n",
    "        ls_hashtags = []\n",
    "        for w in words:\n",
    "            try:\n",
    "                if w[0] == '#':\n",
    "                    ls_hashtags.append(w)\n",
    "            except:\n",
    "                pass\n",
    "        for h in ls_hashtags:\n",
    "            if h not in hash_dic:\n",
    "                hash_dic[h] = 0\n",
    "            hash_dic[h] += 1\n",
    "    return hash_dic\n",
    "\n",
    "def order_dic(dic_hashtags):\n",
    "    for k in sorted(dic_hashtags, key=dic_hashtags.get, reverse=True):\n",
    "        print(k, dic_hashtags[k])"
   ]
  },
  {
   "cell_type": "markdown",
   "id": "dfefc40b",
   "metadata": {},
   "source": [
    "### Maria Elisa Quinteros Presidencia (5 de Enero 2022)"
   ]
  },
  {
   "cell_type": "code",
   "execution_count": 28,
   "id": "1ef161bb",
   "metadata": {},
   "outputs": [],
   "source": [
    "meq = df[(df.created_at > '2022-01-05') & (df.created_at < '2022-01-12')]"
   ]
  },
  {
   "cell_type": "code",
   "execution_count": 29,
   "id": "289bf996",
   "metadata": {
    "scrolled": true
   },
   "outputs": [],
   "source": [
    "meq = meq[meq.text.str.contains(\"Maria Elisa Quinteros|María Elisa Quinteros|MEQ\")]"
   ]
  },
  {
   "cell_type": "code",
   "execution_count": 30,
   "id": "855a9ceb",
   "metadata": {},
   "outputs": [
    {
     "data": {
      "text/plain": [
       "39462"
      ]
     },
     "execution_count": 30,
     "metadata": {},
     "output_type": "execute_result"
    }
   ],
   "source": [
    "len(meq)"
   ]
  },
  {
   "cell_type": "code",
   "execution_count": 31,
   "id": "2a0ee4d3",
   "metadata": {},
   "outputs": [],
   "source": [
    "meq.to_csv('Noticias/MEQ_tweets.csv', index=False)"
   ]
  },
  {
   "cell_type": "markdown",
   "id": "c78609ad",
   "metadata": {},
   "source": [
    "### Borrador (Junio 2022)"
   ]
  },
  {
   "cell_type": "code",
   "execution_count": 32,
   "id": "a4a692ce",
   "metadata": {},
   "outputs": [],
   "source": [
    "borrado = df[(df.created_at > '2022-06-27') & (df.created_at < '2022-07-10')]"
   ]
  },
  {
   "cell_type": "code",
   "execution_count": 33,
   "id": "ba744ecf",
   "metadata": {},
   "outputs": [],
   "source": [
    "borrado = borrado[borrado.text.str.contains(\"borrador|Borrador\")]"
   ]
  },
  {
   "cell_type": "code",
   "execution_count": 34,
   "id": "ea292b00",
   "metadata": {},
   "outputs": [
    {
     "data": {
      "text/plain": [
       "9504"
      ]
     },
     "execution_count": 34,
     "metadata": {},
     "output_type": "execute_result"
    }
   ],
   "source": [
    "len(borrado)"
   ]
  },
  {
   "cell_type": "code",
   "execution_count": 35,
   "id": "3f06c8b1",
   "metadata": {},
   "outputs": [],
   "source": [
    "borrado.to_csv('Noticias/Borrador_tweets.csv', index=False)"
   ]
  },
  {
   "cell_type": "markdown",
   "id": "4590c615",
   "metadata": {},
   "source": [
    "### Fin del Senado (Mayo 2022)"
   ]
  },
  {
   "cell_type": "code",
   "execution_count": 36,
   "id": "38f5ed95",
   "metadata": {},
   "outputs": [],
   "source": [
    "senado = df[(df.created_at > '2022-04-12') & (df.created_at < '2022-04-20')]"
   ]
  },
  {
   "cell_type": "code",
   "execution_count": 37,
   "id": "10c48586",
   "metadata": {},
   "outputs": [],
   "source": [
    "senado = senado[senado.text.str.contains(\"Senado|senado\")]"
   ]
  },
  {
   "cell_type": "code",
   "execution_count": 38,
   "id": "35f7510e",
   "metadata": {},
   "outputs": [
    {
     "data": {
      "text/plain": [
       "14592"
      ]
     },
     "execution_count": 38,
     "metadata": {},
     "output_type": "execute_result"
    }
   ],
   "source": [
    "len(senado)"
   ]
  },
  {
   "cell_type": "code",
   "execution_count": 39,
   "id": "9f22dbf1",
   "metadata": {},
   "outputs": [],
   "source": [
    "senado.to_csv('Noticias/Senado_tweets.csv', index=False)"
   ]
  },
  {
   "cell_type": "markdown",
   "id": "95d58cd8",
   "metadata": {},
   "source": [
    "### Embarazo (Marzo 2022)"
   ]
  },
  {
   "cell_type": "code",
   "execution_count": 40,
   "id": "2d6edbb5",
   "metadata": {},
   "outputs": [],
   "source": [
    "embarazo = df[(df.created_at > '2022-03-14') & (df.created_at < '2022-03-23')]"
   ]
  },
  {
   "cell_type": "code",
   "execution_count": 41,
   "id": "eb9ced81",
   "metadata": {},
   "outputs": [],
   "source": [
    "embarazo = embarazo[embarazo.text.str.contains(\"Aborto|aborto|interrupción voluntaria|interrupcion voluntaria|embarazo\")]"
   ]
  },
  {
   "cell_type": "code",
   "execution_count": 42,
   "id": "2897574a",
   "metadata": {},
   "outputs": [
    {
     "data": {
      "text/plain": [
       "8045"
      ]
     },
     "execution_count": 42,
     "metadata": {},
     "output_type": "execute_result"
    }
   ],
   "source": [
    "len(embarazo)"
   ]
  },
  {
   "cell_type": "code",
   "execution_count": 43,
   "id": "5805c999",
   "metadata": {},
   "outputs": [],
   "source": [
    "embarazo.to_csv('Noticias/Embarazo_tweets.csv', index=False)"
   ]
  },
  {
   "cell_type": "markdown",
   "id": "a990900d-5274-49f0-9b47-57938e81083b",
   "metadata": {
    "tags": []
   },
   "source": [
    "## Crear archivos para DANE"
   ]
  },
  {
   "cell_type": "markdown",
   "id": "9214f55c-52c4-422e-ad15-1c543f9fc230",
   "metadata": {},
   "source": [
    "### General"
   ]
  },
  {
   "cell_type": "code",
   "execution_count": 49,
   "id": "6832effb-5f0e-4235-a908-b7975147123b",
   "metadata": {},
   "outputs": [
    {
     "name": "stderr",
     "output_type": "stream",
     "text": [
      "C:\\Users\\Zephyrus\\AppData\\Local\\Temp\\ipykernel_36760\\249726428.py:2: DtypeWarning: Columns (7) have mixed types. Specify dtype option on import or set low_memory=False.\n",
      "  tweets_users = pd.read_csv('Datasets_Tweets/tweets_users.csv')\n"
     ]
    }
   ],
   "source": [
    "tbip_data = pd.read_csv('Datasets_Tweets/ideal_point_tweets_tesis.csv')\n",
    "tweets_users = pd.read_csv('Datasets_Tweets/tweets_users.csv')"
   ]
  },
  {
   "cell_type": "code",
   "execution_count": 47,
   "id": "55fc16c0-f1af-4308-bc01-dc7389f82783",
   "metadata": {},
   "outputs": [],
   "source": [
    "tbip_dane = tbip_data.sort_values(by='author').drop(columns=['sd'], axis=1).rename({'author':'user_id'}, axis=1)\n",
    "tbip_dane.to_csv('DANE_datasets/tbip_dane_all.csv', index=False)"
   ]
  },
  {
   "cell_type": "code",
   "execution_count": 60,
   "id": "63c4f728-3ab5-410d-92b0-7660763d3ddf",
   "metadata": {},
   "outputs": [],
   "source": [
    "users_with_tbip = list(tweets_users.user_id.unique())"
   ]
  },
  {
   "cell_type": "code",
   "execution_count": 64,
   "id": "2b36b103-ec26-42a1-a179-9443051c7e2f",
   "metadata": {},
   "outputs": [],
   "source": [
    "tbip_dane_filter = tbip_dane[tbip_dane.user_id.isin(users_with_tbip)]\n",
    "tbip_dane_filter.to_csv('DANE_datasets/tbip_dane_filter.csv', index=False)"
   ]
  },
  {
   "cell_type": "code",
   "execution_count": 63,
   "id": "26733f21-7b8c-494c-b46b-482035e41cd0",
   "metadata": {},
   "outputs": [
    {
     "data": {
      "text/plain": [
       "(192872, 164398)"
      ]
     },
     "execution_count": 63,
     "metadata": {},
     "output_type": "execute_result"
    }
   ],
   "source": [
    "len(tbip_dane), len(tbip_dane_filter)"
   ]
  },
  {
   "cell_type": "markdown",
   "id": "80af97e4-bc3b-4cfd-b2d4-01fae036ac67",
   "metadata": {},
   "source": [
    "La cantidad de usuarios distintos en los tweets es 365k, mientras que la cantidad de usuarios en tbip_user_filter es 164k. Es decir que no todos los usuarios dentro de los pares de retweets tienen un punto ideal asociado, se va a tener que filtrar."
   ]
  },
  {
   "cell_type": "markdown",
   "id": "92c21d87-4d5c-474e-97ab-895674d498c3",
   "metadata": {
    "tags": []
   },
   "source": [
    "### Para las 4 noticias"
   ]
  },
  {
   "cell_type": "markdown",
   "id": "798c8530-d8eb-4729-8380-d96db9d1bfef",
   "metadata": {},
   "source": [
    "Estos archivos ya están filtrados por los usuarios que están considerados dentro de los pares de retweets."
   ]
  },
  {
   "cell_type": "code",
   "execution_count": 76,
   "id": "f1122fa5-aa8a-498e-aa8f-ecbab364d0eb",
   "metadata": {},
   "outputs": [
    {
     "name": "stderr",
     "output_type": "stream",
     "text": [
      "C:\\Users\\Zephyrus\\AppData\\Local\\Temp\\ipykernel_36760\\1909068181.py:5: DtypeWarning: Columns (7) have mixed types. Specify dtype option on import or set low_memory=False.\n",
      "  tweets_users = pd.read_csv('Datasets_Tweets/tweets_users.csv')\n"
     ]
    }
   ],
   "source": [
    "meq = pd.read_csv('Noticias/MEQ/MEQ_tweets.csv')\n",
    "borrador = pd.read_csv('Noticias/Borrador/Borrador_tweets.csv')\n",
    "embarazo = pd.read_csv('Noticias/Embarazo/Embarazo_tweets.csv')\n",
    "senado = pd.read_csv('Noticias/Senado/Senado_tweets.csv')\n",
    "tweets_users = pd.read_csv('Datasets_Tweets/tweets_users.csv')"
   ]
  },
  {
   "cell_type": "code",
   "execution_count": 77,
   "id": "0920934e-0c49-4a0e-88a3-2a6bf67d4518",
   "metadata": {},
   "outputs": [],
   "source": [
    "usuarios_de_pares = list(tweets_users.user_id.unique())"
   ]
  },
  {
   "cell_type": "code",
   "execution_count": 79,
   "id": "a1bf7944-e0e3-4c19-94dd-bb788149814d",
   "metadata": {},
   "outputs": [
    {
     "data": {
      "text/plain": [
       "(14592, 14592)"
      ]
     },
     "execution_count": 79,
     "metadata": {},
     "output_type": "execute_result"
    }
   ],
   "source": [
    "len(senado), len(senado[senado.user_id.isin(usuarios_de_pares)])"
   ]
  },
  {
   "cell_type": "code",
   "execution_count": 67,
   "id": "4823bd8b-c6d2-4b68-b418-039c0168d098",
   "metadata": {},
   "outputs": [
    {
     "data": {
      "text/plain": [
       "(39462, 33932)"
      ]
     },
     "execution_count": 67,
     "metadata": {},
     "output_type": "execute_result"
    }
   ],
   "source": [
    "len(meq), len(meq[~meq.ideal_point.isnull()])"
   ]
  },
  {
   "cell_type": "markdown",
   "id": "5c95c9b5-27c9-4b94-87ec-ff812c00857b",
   "metadata": {
    "tags": []
   },
   "source": [
    "#### Archivos TBIP"
   ]
  },
  {
   "cell_type": "code",
   "execution_count": 80,
   "id": "a45de261-870c-4d7e-a7b9-b14790c2a263",
   "metadata": {},
   "outputs": [],
   "source": [
    "tbip_meq = meq[['user_id', 'ideal_point']][~meq.ideal_point.isnull()].drop_duplicates().sort_values(by='user_id').reset_index().drop(columns=['index'])\n",
    "tbip_borrador = borrador[['user_id', 'ideal_point']][~borrador.ideal_point.isnull()].drop_duplicates().sort_values(by='user_id').reset_index().drop(columns=['index'])\n",
    "tbip_emb = embarazo[['user_id', 'ideal_point']][~embarazo.ideal_point.isnull()].drop_duplicates().sort_values(by='user_id').reset_index().drop(columns=['index'])\n",
    "tbip_senado = senado[['user_id', 'ideal_point']][~senado.ideal_point.isnull()].drop_duplicates().sort_values(by='user_id').reset_index().drop(columns=['index'])"
   ]
  },
  {
   "cell_type": "code",
   "execution_count": 81,
   "id": "ce4edc9d-af70-4c0c-84cd-f099ffe0f82a",
   "metadata": {},
   "outputs": [],
   "source": [
    "tbip_user_meq = tbip_meq.user_id.to_list()\n",
    "tbip_user_sen = tbip_senado.user_id.to_list()\n",
    "tbip_user_borr = tbip_borrador.user_id.to_list()\n",
    "tbip_user_emb = tbip_emb.user_id.to_list()"
   ]
  },
  {
   "cell_type": "code",
   "execution_count": 82,
   "id": "d5b3a4bb-7e4e-490f-9e38-6ec9da049bb0",
   "metadata": {},
   "outputs": [],
   "source": [
    "def user2natural(tbip_df):\n",
    "    cont = 0\n",
    "    user_map = {}\n",
    "    for _, row in tbip_df.iterrows():\n",
    "        cont += 1\n",
    "        user_map[row.user_id] = cont\n",
    "    return user_map"
   ]
  },
  {
   "cell_type": "code",
   "execution_count": 83,
   "id": "28319ac8-e1b4-4190-8bb0-479ab9659cc7",
   "metadata": {},
   "outputs": [],
   "source": [
    "dic_user = user2natural(tbip_dane_filter)"
   ]
  },
  {
   "cell_type": "markdown",
   "id": "96ce9765-ed64-4983-a94c-bf2bc65a436d",
   "metadata": {},
   "source": [
    "dic_user es un diccionario que tiene el id original del usuario y hace un mapeo hacia números naturales."
   ]
  },
  {
   "cell_type": "code",
   "execution_count": 84,
   "id": "c7e2959d-b471-4b3a-9eec-93b79b243633",
   "metadata": {},
   "outputs": [],
   "source": [
    "def map_users(tbip_df):\n",
    "    tbip_df['user_id'] = tbip_df.user_id.apply(lambda x: dic_user[x])"
   ]
  },
  {
   "cell_type": "code",
   "execution_count": 85,
   "id": "5a484ccf-3fb2-46c8-b663-50532458bd0c",
   "metadata": {},
   "outputs": [],
   "source": [
    "map_users(tbip_meq)\n",
    "map_users(tbip_borrador)\n",
    "map_users(tbip_emb)\n",
    "map_users(tbip_senado)"
   ]
  },
  {
   "cell_type": "markdown",
   "id": "c1d17c5a-17af-4a96-8491-d0554562a690",
   "metadata": {},
   "source": [
    "#### Archivos pares retweet"
   ]
  },
  {
   "cell_type": "code",
   "execution_count": 93,
   "id": "23dc960a-7892-4b8a-a458-64417e56be86",
   "metadata": {},
   "outputs": [],
   "source": [
    "def pares(data):\n",
    "    # Esto crea un dataframe basado en los retweet de la forma \"usuario1 retweetea a usuario2\"\n",
    "    df_rt = data[data['text'].str.contains(\"RT @\")]\n",
    "    rt_dict = {}\n",
    "    ls_pares = []\n",
    "    for _, row in df_rt.iterrows():\n",
    "        txt = row['text'].split(':')[0]\n",
    "        rt_user = txt.split('@')[-1]\n",
    "        try:\n",
    "            pair = sorted([row.screen_name, rt_user])\n",
    "            if pair[0] != pair[1]:\n",
    "                pair[0] = str(pair[0])\n",
    "                pair[1] = str(pair[1])\n",
    "                key = ' '.join(pair)\n",
    "                ls_pares.append(pair[0] + \" \" + pair[1])\n",
    "                if key not in rt_dict:\n",
    "                    rt_dict[key] = 0\n",
    "                rt_dict[key] += 1\n",
    "        except:\n",
    "            pass\n",
    "    df_pares = pd.DataFrame(ls_pares, columns=['users'])\n",
    "\n",
    "    users_cant = df_pares.groupby('users').size().reset_index(name='counts')\n",
    "    df_cant_pares = users_cant[users_cant['counts'] > 0]\n",
    "    ls_users = []\n",
    "\n",
    "    df_usuarios = df_cant_pares['users'].str.split(' ', expand=True).rename({0: 'user1', 1: 'user2'}, axis=1)\n",
    "    return df_usuarios[['user1', 'user2']]"
   ]
  },
  {
   "cell_type": "code",
   "execution_count": 94,
   "id": "255b3357-54fa-4984-920d-0679e7b639dc",
   "metadata": {},
   "outputs": [],
   "source": [
    "def screen2id(name):\n",
    "    if name not in dic_screen:\n",
    "        return 'None'\n",
    "    user_id = dic_screen[name]\n",
    "    return user_id"
   ]
  },
  {
   "cell_type": "code",
   "execution_count": 95,
   "id": "917d3a01-892f-4965-a05c-461ca097b61a",
   "metadata": {},
   "outputs": [],
   "source": [
    "df_subset = df.drop_duplicates(subset=['screen_name'])"
   ]
  },
  {
   "cell_type": "code",
   "execution_count": 96,
   "id": "02fac79d-3295-4f7f-85c7-c470cca4458c",
   "metadata": {},
   "outputs": [
    {
     "name": "stdout",
     "output_type": "stream",
     "text": [
      "0\n",
      "200000\n",
      "CPU times: total: 19.7 s\n",
      "Wall time: 46.9 s\n"
     ]
    }
   ],
   "source": [
    "%%time\n",
    "dic_screen = {}\n",
    "c = 0\n",
    "for _, row in df_subset.iterrows():\n",
    "    if (c % 200000 == 0):\n",
    "        print(c)\n",
    "    user_id = row.user_id\n",
    "    screen = row.screen_name\n",
    "    if user_id not in dic_screen:\n",
    "        dic_screen[screen] = user_id\n",
    "    c += 1"
   ]
  },
  {
   "cell_type": "code",
   "execution_count": 98,
   "id": "3643bad4-b449-45b6-b8dd-d24306255a54",
   "metadata": {},
   "outputs": [],
   "source": [
    "def get_user_ids(df_pares):\n",
    "    df_pares['user1_id'] = df_pares.user1.apply(screen2id)\n",
    "    df_pares['user2_id'] = df_pares.user2.apply(screen2id)\n",
    "    return df_pares"
   ]
  },
  {
   "cell_type": "code",
   "execution_count": 99,
   "id": "d7ea38cd-e3b2-4f9f-bf44-329bc22a3d95",
   "metadata": {},
   "outputs": [],
   "source": [
    "pares_meq = pares(meq)\n",
    "pares_borr = pares(borrador)\n",
    "pares_emb = pares(embarazo)\n",
    "pares_sen = pares(senado)"
   ]
  },
  {
   "cell_type": "code",
   "execution_count": 101,
   "id": "7c7fba56-289f-41cb-a620-d6d6ee2d202d",
   "metadata": {},
   "outputs": [],
   "source": [
    "pares_meq = get_user_ids(pares_meq)\n",
    "pares_borr = get_user_ids(pares_borr)\n",
    "pares_emb = get_user_ids(pares_emb)\n",
    "pares_sen = get_user_ids(pares_sen)"
   ]
  },
  {
   "cell_type": "code",
   "execution_count": 103,
   "id": "1fafb410-1123-4b87-8461-ea3562db3970",
   "metadata": {},
   "outputs": [],
   "source": [
    "pares_meq = pares_meq[['user1_id', 'user2_id']]\n",
    "pares_borr = pares_borr[['user1_id', 'user2_id']]\n",
    "pares_emb = pares_emb[['user1_id', 'user2_id']]\n",
    "pares_sen = pares_sen[['user1_id', 'user2_id']]"
   ]
  },
  {
   "cell_type": "code",
   "execution_count": 106,
   "id": "3b9729b8-f605-40b4-be30-39bba2cabb48",
   "metadata": {},
   "outputs": [],
   "source": [
    "pares_meq = pares_meq[pares_meq.user1_id != 'None']\n",
    "pares_meq = pares_meq[pares_meq.user2_id != 'None']\n",
    "pares_sen = pares_sen[pares_sen.user1_id != 'None']\n",
    "pares_sen = pares_sen[pares_sen.user2_id != 'None']\n",
    "pares_borr = pares_borr[pares_borr.user1_id != 'None']\n",
    "pares_borr = pares_borr[pares_borr.user2_id != 'None']\n",
    "pares_emb = pares_emb[pares_emb.user1_id != 'None']\n",
    "pares_emb = pares_emb[pares_emb.user2_id != 'None']"
   ]
  },
  {
   "cell_type": "code",
   "execution_count": 140,
   "id": "db7bef2c-6fe4-4d34-9562-963eb2785903",
   "metadata": {},
   "outputs": [],
   "source": [
    "# tbip_user_meq = [int(x) for x in tbip_user_meq]\n",
    "# tbip_user_emb = [int(x) for x in tbip_user_emb]\n",
    "# tbip_user_sen = [int(x) for x in tbip_user_sen]\n",
    "# tbip_user_borr = [int(x) for x in tbip_user_borr]"
   ]
  },
  {
   "cell_type": "code",
   "execution_count": 112,
   "id": "798cca4a-0449-46cf-803c-16c13d276d4e",
   "metadata": {},
   "outputs": [],
   "source": [
    "pares_meq = pares_meq[(pares_meq.user1_id.isin(tbip_user_meq)) & (pares_meq.user2_id.isin(tbip_user_meq))]\n",
    "pares_sen = pares_sen[(pares_sen.user1_id.isin(tbip_user_sen)) & (pares_sen.user2_id.isin(tbip_user_sen))]\n",
    "pares_borr = pares_borr[(pares_borr.user1_id.isin(tbip_user_borr)) & (pares_borr.user2_id.isin(tbip_user_borr))]\n",
    "pares_emb = pares_emb[(pares_emb.user1_id.isin(tbip_user_emb)) & (pares_emb.user2_id.isin(tbip_user_emb))]"
   ]
  },
  {
   "cell_type": "code",
   "execution_count": 113,
   "id": "c518c166-014f-41a4-b437-19ec0814f388",
   "metadata": {},
   "outputs": [],
   "source": [
    "def user_pairs2norm(pares_df):\n",
    "    pares_df['user1_id'] = pares_df.user1_id.apply(lambda user: dic_user[user])\n",
    "    pares_df['user2_id'] = pares_df.user2_id.apply(lambda user: dic_user[user])"
   ]
  },
  {
   "cell_type": "code",
   "execution_count": 115,
   "id": "649714a2-5605-4cd3-be39-c90317767d31",
   "metadata": {},
   "outputs": [
    {
     "name": "stderr",
     "output_type": "stream",
     "text": [
      "C:\\Users\\Zephyrus\\AppData\\Local\\Temp\\ipykernel_36760\\2486555115.py:2: SettingWithCopyWarning: \n",
      "A value is trying to be set on a copy of a slice from a DataFrame.\n",
      "Try using .loc[row_indexer,col_indexer] = value instead\n",
      "\n",
      "See the caveats in the documentation: https://pandas.pydata.org/pandas-docs/stable/user_guide/indexing.html#returning-a-view-versus-a-copy\n",
      "  pares_df['user1_id'] = pares_df.user1_id.apply(lambda user: dic_user[user])\n",
      "C:\\Users\\Zephyrus\\AppData\\Local\\Temp\\ipykernel_36760\\2486555115.py:3: SettingWithCopyWarning: \n",
      "A value is trying to be set on a copy of a slice from a DataFrame.\n",
      "Try using .loc[row_indexer,col_indexer] = value instead\n",
      "\n",
      "See the caveats in the documentation: https://pandas.pydata.org/pandas-docs/stable/user_guide/indexing.html#returning-a-view-versus-a-copy\n",
      "  pares_df['user2_id'] = pares_df.user2_id.apply(lambda user: dic_user[user])\n"
     ]
    }
   ],
   "source": [
    "user_pairs2norm(pares_meq)\n",
    "user_pairs2norm(pares_sen)\n",
    "user_pairs2norm(pares_emb)\n",
    "user_pairs2norm(pares_borr)"
   ]
  },
  {
   "cell_type": "code",
   "execution_count": 129,
   "id": "c795ffa9-b8a7-4322-b43c-ced0c4b12792",
   "metadata": {},
   "outputs": [],
   "source": [
    "final_users_meq = list(set(pares_meq.user1_id.to_list() + pares_meq.user2_id.to_list()))\n",
    "final_users_sen = list(set(pares_sen.user1_id.to_list() + pares_sen.user2_id.to_list()))\n",
    "final_users_emb = list(set(pares_emb.user1_id.to_list() + pares_emb.user2_id.to_list()))\n",
    "final_users_borr = list(set(pares_borr.user1_id.to_list() + pares_borr.user2_id.to_list()))"
   ]
  },
  {
   "cell_type": "code",
   "execution_count": 135,
   "id": "91a8e7a2-f0cd-4ac2-99dd-eb9f43f55ac4",
   "metadata": {},
   "outputs": [],
   "source": [
    "tbip_meq_filter = tbip_meq[tbip_meq.user_id.isin(final_users_meq)]\n",
    "tbip_sen_filter = tbip_senado[tbip_senado.user_id.isin(final_users_sen)]\n",
    "tbip_emb_filter = tbip_emb[tbip_emb.user_id.isin(final_users_emb)]\n",
    "tbip_borr_filter = tbip_borrador[tbip_borrador.user_id.isin(final_users_borr)]"
   ]
  },
  {
   "cell_type": "code",
   "execution_count": 137,
   "id": "29aefef1-0134-458f-929b-c3d152b0808e",
   "metadata": {},
   "outputs": [
    {
     "data": {
      "text/plain": [
       "(12208, 9111)"
      ]
     },
     "execution_count": 137,
     "metadata": {},
     "output_type": "execute_result"
    }
   ],
   "source": [
    "len(tbip_meq), len(tbip_meq_filter)"
   ]
  },
  {
   "cell_type": "code",
   "execution_count": 142,
   "id": "aa414c6a-1df6-4c93-82b0-09467484b5d0",
   "metadata": {},
   "outputs": [
    {
     "data": {
      "text/plain": [
       "(7200, 4816)"
      ]
     },
     "execution_count": 142,
     "metadata": {},
     "output_type": "execute_result"
    }
   ],
   "source": [
    "len(tbip_senado), len(tbip_sen_filter)"
   ]
  },
  {
   "cell_type": "code",
   "execution_count": 144,
   "id": "59307fd7-c304-4ef1-93c5-d97d190c74a3",
   "metadata": {},
   "outputs": [
    {
     "data": {
      "text/plain": [
       "(4406, 3145)"
      ]
     },
     "execution_count": 144,
     "metadata": {},
     "output_type": "execute_result"
    }
   ],
   "source": [
    "len(tbip_emb), len(tbip_emb_filter)"
   ]
  },
  {
   "cell_type": "code",
   "execution_count": 157,
   "id": "30b93a01-4019-4154-bcf7-c5c17b33f49e",
   "metadata": {},
   "outputs": [
    {
     "data": {
      "text/plain": [
       "(9111, 9111)"
      ]
     },
     "execution_count": 157,
     "metadata": {},
     "output_type": "execute_result"
    }
   ],
   "source": [
    "len(final_users_meq), len(tbip_meq_filter.user_id.to_list())"
   ]
  },
  {
   "cell_type": "markdown",
   "id": "2aefb049-3269-48d2-ac0f-5302f37b0ca8",
   "metadata": {},
   "source": [
    "### Crear archivos csv"
   ]
  },
  {
   "cell_type": "markdown",
   "id": "97350991-450e-4074-adbb-bdd3c503c429",
   "metadata": {},
   "source": [
    "TBIP (Features)"
   ]
  },
  {
   "cell_type": "code",
   "execution_count": 158,
   "id": "c64f5956-14b7-4be4-9ee5-7f37bd0dda1f",
   "metadata": {},
   "outputs": [],
   "source": [
    "tbip_meq_filter.to_csv('Noticias/MEQ/MEQ_tbip.csv', index=False)\n",
    "tbip_borr_filter.to_csv('Noticias/Borrador/Borrador_tbip.csv', index=False)\n",
    "tbip_emb_filter.to_csv('Noticias/Embarazo/Embarazo_tbip.csv', index=False)\n",
    "tbip_sen_filter.to_csv('Noticias/Senado/Senado_tbip.csv', index=False)"
   ]
  },
  {
   "cell_type": "code",
   "execution_count": 159,
   "id": "589a7e1b-413d-4c60-92c9-ab06757dd44b",
   "metadata": {},
   "outputs": [],
   "source": [
    "tbip_meq_filter.to_csv('Noticias/MEQ/MEQ_tbip.txt', header=None, index=None, sep=' ', mode='w')\n",
    "tbip_borr_filter.to_csv('Noticias/Borrador/Borrador_tbip.txt', header=None, index=None, sep=' ', mode='w')\n",
    "tbip_emb_filter.to_csv('Noticias/Embarazo/Embarazo_tbip.txt', header=None, index=None, sep=' ', mode='w')\n",
    "tbip_sen_filter.to_csv('Noticias/Senado/Senado_tbip.txt', header=None, index=None, sep=' ', mode='w')"
   ]
  },
  {
   "cell_type": "markdown",
   "id": "10133b57-f1cc-491c-919b-43976c9dd293",
   "metadata": {},
   "source": [
    "Pares (Edges)"
   ]
  },
  {
   "cell_type": "code",
   "execution_count": 161,
   "id": "4c2e4269-9ec7-45ae-bfce-8fa20022c8d8",
   "metadata": {},
   "outputs": [],
   "source": [
    "pares_meq.to_csv('Noticias/MEQ/MEQ_pares.csv', index=False)\n",
    "pares_borr.to_csv('Noticias/Borrador/Borrador_pares.csv', index=False)\n",
    "pares_emb.to_csv('Noticias/Embarazo/Embarazo_pares.csv', index=False)\n",
    "pares_sen.to_csv('Noticias/Senado/Senado_pares.csv', index=False)"
   ]
  },
  {
   "cell_type": "code",
   "execution_count": 162,
   "id": "27410320-f159-477c-8a9e-999f027da866",
   "metadata": {},
   "outputs": [],
   "source": [
    "pares_meq.to_csv('Noticias/MEQ/MEQ_pares.txt', header=None, index=None, sep=' ', mode='w')\n",
    "pares_borr.to_csv('Noticias/Borrador/Borrador_pares.txt', header=None, index=None, sep=' ', mode='w')\n",
    "pares_emb.to_csv('Noticias/Embarazo/Embarazo_pares.txt', header=None, index=None, sep=' ', mode='w')\n",
    "pares_sen.to_csv('Noticias/Senado/Senado_pares.txt', header=None, index=None, sep=' ', mode='w')"
   ]
  },
  {
   "cell_type": "markdown",
   "id": "a5b8d8ab-9b78-43e8-b157-33921d2c2bd0",
   "metadata": {},
   "source": [
    "### Revisar archvios"
   ]
  },
  {
   "cell_type": "code",
   "execution_count": 163,
   "id": "48a0879d-3a79-4227-a899-867741108317",
   "metadata": {},
   "outputs": [],
   "source": [
    "pmeq = pd.read_csv('Noticias/MEQ/MEQ_pares.csv')\n",
    "pborr = pd.read_csv('Noticias/Borrador/Borrador_pares.csv')\n",
    "pemb = pd.read_csv('Noticias/Embarazo/Embarazo_pares.csv')\n",
    "psen = pd.read_csv('Noticias/Senado/Senado_pares.csv')"
   ]
  },
  {
   "cell_type": "markdown",
   "id": "33b999d8-32eb-4267-bd7f-12bd444f161b",
   "metadata": {},
   "source": [
    "# Estándar para DANE"
   ]
  },
  {
   "cell_type": "code",
   "execution_count": 75,
   "id": "c5d321bd-18d5-4c87-b221-3511d9cea518",
   "metadata": {},
   "outputs": [],
   "source": [
    "pmeq = pd.read_csv('Noticias/MEQ/MEQ_pares.csv')\n",
    "pborr = pd.read_csv('Noticias/Borrador/Borrador_pares.csv')\n",
    "pemb = pd.read_csv('Noticias/Embarazo/Embarazo_pares.csv')\n",
    "psen = pd.read_csv('Noticias/Senado/Senado_pares.csv')"
   ]
  },
  {
   "cell_type": "code",
   "execution_count": 76,
   "id": "313882c4-62df-473c-9359-724fefadd234",
   "metadata": {},
   "outputs": [],
   "source": [
    "tmeq = pd.read_csv('Noticias/MEQ/MEQ_tbip.csv')\n",
    "tborr = pd.read_csv('Noticias/Borrador/Borrador_tbip.csv')\n",
    "temb = pd.read_csv('Noticias/Embarazo/Embarazo_tbip.csv')\n",
    "tsen = pd.read_csv('Noticias/Senado/Senado_tbip.csv')"
   ]
  },
  {
   "cell_type": "code",
   "execution_count": 77,
   "id": "8ef7ee48-55ce-4b2b-bae9-2dcd43941c96",
   "metadata": {},
   "outputs": [],
   "source": [
    "def user2natural(tbip_df):\n",
    "    cont = -1\n",
    "    user_map = {}\n",
    "    for _, row in tbip_df.iterrows():\n",
    "        cont += 1\n",
    "        user_map[row.user_id] = cont\n",
    "    return user_map"
   ]
  },
  {
   "cell_type": "code",
   "execution_count": 78,
   "id": "89adf513-a48d-45ed-8337-d055777fafb4",
   "metadata": {},
   "outputs": [],
   "source": [
    "def map_users(tbip_df, dic):\n",
    "    tbip_df['user_id'] = tbip_df.user_id.apply(lambda x: dic[x])"
   ]
  },
  {
   "cell_type": "code",
   "execution_count": 79,
   "id": "ffd4143b-d613-44ba-ab3b-1fa76d572609",
   "metadata": {},
   "outputs": [],
   "source": [
    "def user_pairs2norm(pares_df, dic):\n",
    "    pares_df['user1_id'] = pares_df.user1_id.apply(lambda user: dic[user])\n",
    "    pares_df['user2_id'] = pares_df.user2_id.apply(lambda user: dic[user])"
   ]
  },
  {
   "cell_type": "code",
   "execution_count": 80,
   "id": "86ef842b-d42e-4326-8d50-32fcf04fe51b",
   "metadata": {},
   "outputs": [],
   "source": [
    "def swap_values(df):\n",
    "    for idx, row in df.iterrows():\n",
    "        if row.user2_id < row.user1_id:\n",
    "            temp = row.user2_id\n",
    "            df.loc[idx, 'user2_id'] = row.user1_id\n",
    "            df.loc[idx, 'user1_id'] = temp"
   ]
  },
  {
   "cell_type": "code",
   "execution_count": 81,
   "id": "90b02bb1-d88b-488e-abb0-e3a85f012681",
   "metadata": {},
   "outputs": [],
   "source": [
    "dic_meq = user2natural(tmeq)\n",
    "dic_sen = user2natural(tsen)\n",
    "dic_borr = user2natural(tborr)\n",
    "dic_emb = user2natural(temb)"
   ]
  },
  {
   "cell_type": "code",
   "execution_count": 82,
   "id": "61e876ae-3735-4569-9d84-4aabc80b776a",
   "metadata": {},
   "outputs": [],
   "source": [
    "map_users(tmeq, dic_meq)\n",
    "map_users(tsen, dic_sen)\n",
    "map_users(tborr, dic_borr)\n",
    "map_users(temb, dic_emb)"
   ]
  },
  {
   "cell_type": "code",
   "execution_count": 83,
   "id": "bff2ac55-cd73-4ef0-8a7c-bb7d8539e566",
   "metadata": {},
   "outputs": [],
   "source": [
    "user_pairs2norm(pmeq, dic_meq)\n",
    "user_pairs2norm(psen, dic_sen)\n",
    "user_pairs2norm(pborr, dic_borr)\n",
    "user_pairs2norm(pemb, dic_emb)"
   ]
  },
  {
   "cell_type": "code",
   "execution_count": 84,
   "id": "cc445a21-9796-40e6-ae8b-2846dd4fe802",
   "metadata": {},
   "outputs": [],
   "source": [
    "swap_values(pmeq)\n",
    "swap_values(psen)\n",
    "swap_values(pborr)\n",
    "swap_values(pemb)"
   ]
  },
  {
   "cell_type": "code",
   "execution_count": 85,
   "id": "6ee4053c-860a-46ae-803a-4605239dbe83",
   "metadata": {},
   "outputs": [],
   "source": [
    "pmeq.sort_values(by=['user1_id','user2_id'], inplace=True)\n",
    "psen.sort_values(by=['user1_id','user2_id'], inplace=True)\n",
    "pborr.sort_values(by=['user1_id','user2_id'], inplace=True)\n",
    "pemb.sort_values(by=['user1_id','user2_id'], inplace=True)"
   ]
  },
  {
   "cell_type": "markdown",
   "id": "14e49a5c-ea48-4455-a698-aaba1bc62723",
   "metadata": {},
   "source": [
    "Guardar archivos en DANE_datasets"
   ]
  },
  {
   "cell_type": "code",
   "execution_count": 86,
   "id": "7662fc6e-666c-48c2-be86-26925e9ce3d0",
   "metadata": {},
   "outputs": [],
   "source": [
    "tmeq.to_csv('DANE_datasets/MEQ/MEQ_tbip.csv', index=False)\n",
    "tborr.to_csv('DANE_datasets/Borrador/Borrador_tbip.csv', index=False)\n",
    "temb.to_csv('DANE_datasets/Embarazo/Embarazo_tbip.csv', index=False)\n",
    "tsen.to_csv('DANE_datasets/Senado/Senado_tbip.csv', index=False)"
   ]
  },
  {
   "cell_type": "code",
   "execution_count": 87,
   "id": "5a71bb3a-8f62-4f54-adff-82273b29911b",
   "metadata": {},
   "outputs": [],
   "source": [
    "tmeq.to_csv('DANE_datasets/MEQ/MEQ_tbip.txt', header=None, index=None, sep=' ', mode='w')\n",
    "tborr.to_csv('DANE_datasets/Borrador/Borrador_tbip.txt', header=None, index=None, sep=' ', mode='w')\n",
    "temb.to_csv('DANE_datasets/Embarazo/Embarazo_tbip.txt', header=None, index=None, sep=' ', mode='w')\n",
    "tsen.to_csv('DANE_datasets/Senado/Senado_tbip.txt', header=None, index=None, sep=' ', mode='w')"
   ]
  },
  {
   "cell_type": "code",
   "execution_count": 88,
   "id": "954e503b-80f8-4a4a-a21d-cb0dcdc80dfd",
   "metadata": {},
   "outputs": [],
   "source": [
    "pmeq.to_csv('DANE_datasets/MEQ/MEQ_pares.csv', index=False)\n",
    "pborr.to_csv('DANE_datasets/Borrador/Borrador_pares.csv', index=False)\n",
    "pemb.to_csv('DANE_datasets/Embarazo/Embarazo_pares.csv', index=False)\n",
    "psen.to_csv('DANE_datasets/Senado/Senado_pares.csv', index=False)"
   ]
  },
  {
   "cell_type": "code",
   "execution_count": 89,
   "id": "e42ddc92-2cad-42b9-8cad-e144d78e8229",
   "metadata": {},
   "outputs": [],
   "source": [
    "pmeq.to_csv('DANE_datasets/MEQ/MEQ_pares.txt', header=None, index=None, sep=' ', mode='w')\n",
    "pborr.to_csv('DANE_datasets/Borrador/Borrador_pares.txt', header=None, index=None, sep=' ', mode='w')\n",
    "pemb.to_csv('DANE_datasets/Embarazo/Embarazo_pares.txt', header=None, index=None, sep=' ', mode='w')\n",
    "psen.to_csv('DANE_datasets/Senado/Senado_pares.txt', header=None, index=None, sep=' ', mode='w')"
   ]
  },
  {
   "cell_type": "code",
   "execution_count": 91,
   "id": "a1fbb221-c8fa-43c6-81b0-b491f3a5ab46",
   "metadata": {},
   "outputs": [
    {
     "data": {
      "text/html": [
       "<div>\n",
       "<style scoped>\n",
       "    .dataframe tbody tr th:only-of-type {\n",
       "        vertical-align: middle;\n",
       "    }\n",
       "\n",
       "    .dataframe tbody tr th {\n",
       "        vertical-align: top;\n",
       "    }\n",
       "\n",
       "    .dataframe thead th {\n",
       "        text-align: right;\n",
       "    }\n",
       "</style>\n",
       "<table border=\"1\" class=\"dataframe\">\n",
       "  <thead>\n",
       "    <tr style=\"text-align: right;\">\n",
       "      <th></th>\n",
       "      <th>user_id</th>\n",
       "      <th>ideal_point</th>\n",
       "    </tr>\n",
       "  </thead>\n",
       "  <tbody>\n",
       "    <tr>\n",
       "      <th>0</th>\n",
       "      <td>0</td>\n",
       "      <td>-0.317720</td>\n",
       "    </tr>\n",
       "    <tr>\n",
       "      <th>1</th>\n",
       "      <td>1</td>\n",
       "      <td>-0.678006</td>\n",
       "    </tr>\n",
       "    <tr>\n",
       "      <th>2</th>\n",
       "      <td>2</td>\n",
       "      <td>-0.796868</td>\n",
       "    </tr>\n",
       "    <tr>\n",
       "      <th>3</th>\n",
       "      <td>3</td>\n",
       "      <td>-0.621242</td>\n",
       "    </tr>\n",
       "    <tr>\n",
       "      <th>4</th>\n",
       "      <td>4</td>\n",
       "      <td>0.139729</td>\n",
       "    </tr>\n",
       "    <tr>\n",
       "      <th>...</th>\n",
       "      <td>...</td>\n",
       "      <td>...</td>\n",
       "    </tr>\n",
       "    <tr>\n",
       "      <th>9106</th>\n",
       "      <td>9106</td>\n",
       "      <td>-0.634176</td>\n",
       "    </tr>\n",
       "    <tr>\n",
       "      <th>9107</th>\n",
       "      <td>9107</td>\n",
       "      <td>-0.536071</td>\n",
       "    </tr>\n",
       "    <tr>\n",
       "      <th>9108</th>\n",
       "      <td>9108</td>\n",
       "      <td>-0.122388</td>\n",
       "    </tr>\n",
       "    <tr>\n",
       "      <th>9109</th>\n",
       "      <td>9109</td>\n",
       "      <td>-0.750262</td>\n",
       "    </tr>\n",
       "    <tr>\n",
       "      <th>9110</th>\n",
       "      <td>9110</td>\n",
       "      <td>-0.786555</td>\n",
       "    </tr>\n",
       "  </tbody>\n",
       "</table>\n",
       "<p>9111 rows × 2 columns</p>\n",
       "</div>"
      ],
      "text/plain": [
       "      user_id  ideal_point\n",
       "0           0    -0.317720\n",
       "1           1    -0.678006\n",
       "2           2    -0.796868\n",
       "3           3    -0.621242\n",
       "4           4     0.139729\n",
       "...       ...          ...\n",
       "9106     9106    -0.634176\n",
       "9107     9107    -0.536071\n",
       "9108     9108    -0.122388\n",
       "9109     9109    -0.750262\n",
       "9110     9110    -0.786555\n",
       "\n",
       "[9111 rows x 2 columns]"
      ]
     },
     "execution_count": 91,
     "metadata": {},
     "output_type": "execute_result"
    }
   ],
   "source": [
    "pd.read_csv('DANE_datasets/MEQ/MEQ_tbip.csv')"
   ]
  }
 ],
 "metadata": {
  "kernelspec": {
   "display_name": "Python 3 (ipykernel)",
   "language": "python",
   "name": "python3"
  },
  "language_info": {
   "codemirror_mode": {
    "name": "ipython",
    "version": 3
   },
   "file_extension": ".py",
   "mimetype": "text/x-python",
   "name": "python",
   "nbconvert_exporter": "python",
   "pygments_lexer": "ipython3",
   "version": "3.9.12"
  }
 },
 "nbformat": 4,
 "nbformat_minor": 5
}
